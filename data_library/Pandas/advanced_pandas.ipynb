{
 "cells": [
  {
   "cell_type": "code",
   "execution_count": 1,
   "id": "5e34d1c2",
   "metadata": {},
   "outputs": [],
   "source": [
    "import pandas as pd"
   ]
  },
  {
   "cell_type": "code",
   "execution_count": null,
   "id": "b4997366",
   "metadata": {},
   "outputs": [
    {
     "name": "stdout",
     "output_type": "stream",
     "text": [
      "        Name  Age  Salary  Performance_Score\n",
      "0        Ram   28   50000                 85\n",
      "1      Shyam   34   60000                 98\n",
      "2   Ghanshym   22   45000                 78\n",
      "3  Dhanshyam   30   52000                 92\n",
      "4     Aditya   29   49000                 88\n",
      "5    Jagdish   40   70000                 95\n",
      "6        Raj   25   48000                 80\n",
      "7     Simran   32   58000                 89\n",
      "        Name  Age  Salary  Performance_Score   Bonus\n",
      "0        Ram   28   50000                 85  5000.0\n",
      "1      Shyam   34   60000                 98  6000.0\n",
      "2   Ghanshym   22   45000                 78  4500.0\n",
      "3  Dhanshyam   30   52000                 92  5200.0\n",
      "4     Aditya   29   49000                 88  4900.0\n",
      "5    Jagdish   40   70000                 95  7000.0\n",
      "6        Raj   25   48000                 80  4800.0\n",
      "7     Simran   32   58000                 89  5800.0\n"
     ]
    }
   ],
   "source": [
    "#adding new columns\n",
    "data = {\n",
    "    \"Name\":[\"Ram\",\"Shyam\",\"Ghanshym\",\"Dhanshyam\",\"Aditya\",\"Jagdish\",\"Raj\",\"Simran\"],\n",
    "    \"Age\":[28,34,22,30,29,40,25,32],\n",
    "    \"Salary\":[50000,60000,45000,52000,49000,70000,48000,58000],\n",
    "    \"Performance_Score\":[85,98,78,92,88,95,80,89]\n",
    "}\n",
    "\n",
    "df = pd.DataFrame(data)\n",
    "\n",
    "print(df)\n",
    "\n",
    "df[\"Bonus\"] = df[\"Salary\"] * 0.1\n",
    "print(df)"
   ]
  },
  {
   "cell_type": "code",
   "execution_count": 4,
   "id": "a436b9ad",
   "metadata": {},
   "outputs": [
    {
     "name": "stdout",
     "output_type": "stream",
     "text": [
      "   Employee ID       Name  Age  Salary  Performance_Score   Bonus\n",
      "0           10        Ram   28   50000                 85  5000.0\n",
      "1           20      Shyam   34   60000                 98  6000.0\n",
      "2           30   Ghanshym   22   45000                 78  4500.0\n",
      "3           40  Dhanshyam   30   52000                 92  5200.0\n",
      "4           50     Aditya   29   49000                 88  4900.0\n",
      "5           60    Jagdish   40   70000                 95  7000.0\n",
      "6           70        Raj   25   48000                 80  4800.0\n",
      "7           80     Simran   32   58000                 89  5800.0\n"
     ]
    }
   ],
   "source": [
    "#adding using insert method\n",
    "#df.insert(location, \"column name\", some_data)\n",
    "\n",
    "df.insert(0,\"Employee ID\",[10,20,30,40,50,60,70,80])\n",
    "print(df)"
   ]
  },
  {
   "cell_type": "code",
   "execution_count": null,
   "id": "373b492e",
   "metadata": {},
   "outputs": [
    {
     "name": "stdout",
     "output_type": "stream",
     "text": [
      "   Employee ID       Name  Age  Salary  Performance_Score   Bonus\n",
      "0           10        Ram   28   55000                 85  5000.0\n",
      "1           20      Shyam   34   60000                 98  6000.0\n",
      "2           30   Ghanshym   22   45000                 78  4500.0\n",
      "3           40  Dhanshyam   30   52000                 92  5200.0\n",
      "4           50     Aditya   29   49000                 88  4900.0\n",
      "5           60    Jagdish   40   70000                 95  7000.0\n",
      "6           70        Raj   25   48000                 80  4800.0\n",
      "7           80     Simran   32   58000                 89  5800.0\n"
     ]
    }
   ],
   "source": [
    "#updating data\n",
    "#.loc[]\n",
    "#df.loc[row_index, \"column name\"] = new_value\n",
    "\n",
    "df.loc[0, 'Salary'] = 55000\n",
    "print(df)   "
   ]
  },
  {
   "cell_type": "code",
   "execution_count": 6,
   "id": "388559d8",
   "metadata": {},
   "outputs": [
    {
     "name": "stdout",
     "output_type": "stream",
     "text": [
      "   Employee ID       Name  Age   Salary  Performance_Score   Bonus\n",
      "0           10        Ram   28  57750.0                 85  5000.0\n",
      "1           20      Shyam   34  63000.0                 98  6000.0\n",
      "2           30   Ghanshym   22  47250.0                 78  4500.0\n",
      "3           40  Dhanshyam   30  54600.0                 92  5200.0\n",
      "4           50     Aditya   29  51450.0                 88  4900.0\n",
      "5           60    Jagdish   40  73500.0                 95  7000.0\n",
      "6           70        Raj   25  50400.0                 80  4800.0\n",
      "7           80     Simran   32  60900.0                 89  5800.0\n"
     ]
    }
   ],
   "source": [
    "#increasing salary by 5%\n",
    "\n",
    "df['Salary'] = df['Salary'] * 1.05\n",
    "print(df)"
   ]
  },
  {
   "cell_type": "code",
   "execution_count": 11,
   "id": "f0b890a4",
   "metadata": {},
   "outputs": [
    {
     "name": "stdout",
     "output_type": "stream",
     "text": [
      "\n",
      "\n",
      "modified data\n",
      "        Name  Age  Salary\n",
      "0        Ram   28   50000\n",
      "1      Shyam   34   60000\n",
      "2   Ghanshym   22   45000\n",
      "3  Dhanshyam   30   52000\n",
      "4     Aditya   29   49000\n",
      "5    Jagdish   40   70000\n",
      "6        Raj   25   48000\n",
      "7     Simran   32   58000\n",
      "\n",
      "\n",
      "multiple column remove\n",
      "        Name\n",
      "0        Ram\n",
      "1      Shyam\n",
      "2   Ghanshym\n",
      "3  Dhanshyam\n",
      "4     Aditya\n",
      "5    Jagdish\n",
      "6        Raj\n",
      "7     Simran\n"
     ]
    }
   ],
   "source": [
    "#removing column\n",
    "#df.drop(columns = [\"columnName\"], inplace=True) inplace = true it means it modify original data directly \n",
    "# and if inplace = false it means it retuns new dataframe\n",
    "\n",
    "data = {\n",
    "    \"Name\":[\"Ram\",\"Shyam\",\"Ghanshym\",\"Dhanshyam\",\"Aditya\",\"Jagdish\",\"Raj\",\"Simran\"],\n",
    "    \"Age\":[28,34,22,30,29,40,25,32],\n",
    "    \"Salary\":[50000,60000,45000,52000,49000,70000,48000,58000],\n",
    "    \"Performance_Score\":[85,98,78,92,88,95,80,89]\n",
    "}\n",
    "\n",
    "df = pd.DataFrame(data)\n",
    "\n",
    "\n",
    "print(\"\\n\\nmodified data\")\n",
    "df.drop(columns=[\"Performance_Score\"], inplace=True) \n",
    "print(df)\n",
    "\n",
    "\n",
    "#if you want to remove multiple data\n",
    "\n",
    "print(\"\\n\\nmultiple column remove\")\n",
    "df.drop(columns=[\"Salary\", \"Age\"], inplace=True) \n",
    "print(df)\n",
    "\n"
   ]
  },
  {
   "cell_type": "code",
   "execution_count": null,
   "id": "8670ae02",
   "metadata": {
    "vscode": {
     "languageId": "xml"
    }
   },
   "outputs": [],
   "source": [
    "#handling missing data\n",
    "NaN (Not a number)\n",
    "None (for object data types)\n",
    "\n",
    "isNull()\n",
    "True - NaN is missing\n",
    "False - value is present    "
   ]
  },
  {
   "cell_type": "code",
   "execution_count": 17,
   "id": "92a5e81e",
   "metadata": {},
   "outputs": [
    {
     "name": "stdout",
     "output_type": "stream",
     "text": [
      "        Name   Age   Salary  Performance_Score\n",
      "0        Ram  28.0  50000.0               85.0\n",
      "1       None   NaN      NaN                NaN\n",
      "2   Ghanshym  22.0  45000.0               78.0\n",
      "3  Dhanshyam  30.0  52000.0               92.0\n",
      "4     Aditya  29.0  49000.0               88.0\n",
      "5    Jagdish  40.0  70000.0               95.0\n",
      "6        Raj  25.0  48000.0               80.0\n",
      "7     Simran  32.0  58000.0               89.0\n",
      "    Name    Age  Salary  Performance_Score\n",
      "0  False  False   False              False\n",
      "1   True   True    True               True\n",
      "2  False  False   False              False\n",
      "3  False  False   False              False\n",
      "4  False  False   False              False\n",
      "5  False  False   False              False\n",
      "6  False  False   False              False\n",
      "7  False  False   False              False\n",
      "Name                 1\n",
      "Age                  1\n",
      "Salary               1\n",
      "Performance_Score    1\n",
      "dtype: int64\n"
     ]
    }
   ],
   "source": [
    "#handling missing data\n",
    "data = {\n",
    "    \"Name\":[\"Ram\",None,\"Ghanshym\",\"Dhanshyam\",\"Aditya\",\"Jagdish\",\"Raj\",\"Simran\"],\n",
    "    \"Age\":[28,None,22,30,29,40,25,32],\n",
    "    \"Salary\":[50000,None,45000,52000,49000,70000,48000,58000],\n",
    "    \"Performance_Score\":[85,None,78,92,88,95,80,89]\n",
    "}\n",
    "\n",
    "df = pd.DataFrame(data)\n",
    "print(df)\n",
    "\n",
    "\n",
    "print(df.isnull())\n",
    "print(df.isnull().sum()) #return the total number none value in a column"
   ]
  },
  {
   "cell_type": "code",
   "execution_count": null,
   "id": "2045c2f2",
   "metadata": {},
   "outputs": [
    {
     "name": "stdout",
     "output_type": "stream",
     "text": [
      "        Name   Age   Salary  Performance_Score\n",
      "0        Ram  28.0  50000.0               85.0\n",
      "1       None   NaN      NaN                NaN\n",
      "2   Ghanshym  22.0  45000.0               78.0\n",
      "3  Dhanshyam  30.0  52000.0               92.0\n",
      "4     Aditya  29.0  49000.0               88.0\n",
      "5    Jagdish  40.0  70000.0               95.0\n",
      "6        Raj  25.0  48000.0               80.0\n",
      "7     Simran  32.0  58000.0               89.0\n",
      "        Name   Age   Salary  Performance_Score\n",
      "0        Ram  28.0  50000.0               85.0\n",
      "2   Ghanshym  22.0  45000.0               78.0\n",
      "3  Dhanshyam  30.0  52000.0               92.0\n",
      "4     Aditya  29.0  49000.0               88.0\n",
      "5    Jagdish  40.0  70000.0               95.0\n",
      "6        Raj  25.0  48000.0               80.0\n",
      "7     Simran  32.0  58000.0               89.0\n"
     ]
    }
   ],
   "source": [
    "#dropna() - remove missing value\n",
    "\n",
    "data = {\n",
    "    \"Name\":[\"Ram\",None,\"Ghanshym\",\"Dhanshyam\",\"Aditya\",\"Jagdish\",\"Raj\",\"Simran\"],\n",
    "    \"Age\":[28,None,22,30,29,40,25,32],\n",
    "    \"Salary\":[50000,None,45000,52000,49000,70000,48000,58000],\n",
    "    \"Performance_Score\":[85,None,78,92,88,95,80,89]\n",
    "}\n",
    "\n",
    "df = pd.DataFrame(data)\n",
    "print(df)\n",
    "\n",
    "df.dropna(inplace=True)\n",
    "print(df)"
   ]
  },
  {
   "cell_type": "code",
   "execution_count": 23,
   "id": "334744b4",
   "metadata": {},
   "outputs": [
    {
     "name": "stdout",
     "output_type": "stream",
     "text": [
      "        Name   Age   Salary  Performance_Score\n",
      "0        Ram  28.0  50000.0               85.0\n",
      "1       None   NaN      NaN                NaN\n",
      "2   Ghanshym  22.0  45000.0               78.0\n",
      "3  Dhanshyam  30.0  52000.0               92.0\n",
      "4     Aditya  29.0  49000.0               88.0\n",
      "5    Jagdish  40.0  70000.0               95.0\n",
      "6        Raj  25.0  48000.0               80.0\n",
      "7     Simran  32.0  58000.0               89.0\n",
      "        Name        Age        Salary  Performance_Score\n",
      "0        Ram  28.000000  50000.000000          85.000000\n",
      "1       None  29.428571  53142.857143          86.714286\n",
      "2   Ghanshym  22.000000  45000.000000          78.000000\n",
      "3  Dhanshyam  30.000000  52000.000000          92.000000\n",
      "4     Aditya  29.000000  49000.000000          88.000000\n",
      "5    Jagdish  40.000000  70000.000000          95.000000\n",
      "6        Raj  25.000000  48000.000000          80.000000\n",
      "7     Simran  32.000000  58000.000000          89.000000\n"
     ]
    },
    {
     "name": "stderr",
     "output_type": "stream",
     "text": [
      "C:\\Users\\dell\\AppData\\Local\\Temp\\ipykernel_9196\\1679714215.py:14: FutureWarning: A value is trying to be set on a copy of a DataFrame or Series through chained assignment using an inplace method.\n",
      "The behavior will change in pandas 3.0. This inplace method will never work because the intermediate object on which we are setting values always behaves as a copy.\n",
      "\n",
      "For example, when doing 'df[col].method(value, inplace=True)', try using 'df.method({col: value}, inplace=True)' or df[col] = df[col].method(value) instead, to perform the operation inplace on the original object.\n",
      "\n",
      "\n",
      "  df['Age'].fillna(df[\"Age\"].mean(), inplace=True)\n",
      "C:\\Users\\dell\\AppData\\Local\\Temp\\ipykernel_9196\\1679714215.py:15: FutureWarning: A value is trying to be set on a copy of a DataFrame or Series through chained assignment using an inplace method.\n",
      "The behavior will change in pandas 3.0. This inplace method will never work because the intermediate object on which we are setting values always behaves as a copy.\n",
      "\n",
      "For example, when doing 'df[col].method(value, inplace=True)', try using 'df.method({col: value}, inplace=True)' or df[col] = df[col].method(value) instead, to perform the operation inplace on the original object.\n",
      "\n",
      "\n",
      "  df['Salary'].fillna(df[\"Salary\"].mean(), inplace=True)\n",
      "C:\\Users\\dell\\AppData\\Local\\Temp\\ipykernel_9196\\1679714215.py:16: FutureWarning: A value is trying to be set on a copy of a DataFrame or Series through chained assignment using an inplace method.\n",
      "The behavior will change in pandas 3.0. This inplace method will never work because the intermediate object on which we are setting values always behaves as a copy.\n",
      "\n",
      "For example, when doing 'df[col].method(value, inplace=True)', try using 'df.method({col: value}, inplace=True)' or df[col] = df[col].method(value) instead, to perform the operation inplace on the original object.\n",
      "\n",
      "\n",
      "  df['Performance_Score'].fillna(df[\"Performance_Score\"].mean(), inplace=True)\n"
     ]
    }
   ],
   "source": [
    "#fillna() - fill missing values\n",
    "\n",
    "data = {\n",
    "    \"Name\":[\"Ram\",None,\"Ghanshym\",\"Dhanshyam\",\"Aditya\",\"Jagdish\",\"Raj\",\"Simran\"],\n",
    "    \"Age\":[28,None,22,30,29,40,25,32],\n",
    "    \"Salary\":[50000,None,45000,52000,49000,70000,48000,58000],\n",
    "    \"Performance_Score\":[85,None,78,92,88,95,80,89]\n",
    "}\n",
    "\n",
    "df = pd.DataFrame(data)\n",
    "print(df)\n",
    "\n",
    "# df.fillna(0, inplace=True)\n",
    "df['Age'].fillna(df[\"Age\"].mean(), inplace=True)\n",
    "df['Salary'].fillna(df[\"Salary\"].mean(), inplace=True)\n",
    "df['Performance_Score'].fillna(df[\"Performance_Score\"].mean(), inplace=True)\n",
    "print(df)"
   ]
  },
  {
   "cell_type": "code",
   "execution_count": null,
   "id": "76f86632",
   "metadata": {},
   "outputs": [
    {
     "name": "stdout",
     "output_type": "stream",
     "text": [
      "        Name   Age   Salary  Performance_Score\n",
      "0        Ram  28.0  50000.0               85.0\n",
      "1      Shyam   NaN      NaN                NaN\n",
      "2   Ghanshym  22.0  45000.0               78.0\n",
      "3  Dhanshyam  30.0  52000.0               92.0\n",
      "4     Aditya  29.0  49000.0               88.0\n",
      "5    Jagdish  40.0  70000.0               95.0\n",
      "6        Raj  25.0  48000.0               80.0\n",
      "7     Simran  32.0  58000.0               89.0\n",
      "        Name   Age   Salary  Performance_Score\n",
      "0        Ram  28.0  50000.0               85.0\n",
      "1      Shyam  25.0  47500.0               81.5\n",
      "2   Ghanshym  22.0  45000.0               78.0\n",
      "3  Dhanshyam  30.0  52000.0               92.0\n",
      "4     Aditya  29.0  49000.0               88.0\n",
      "5    Jagdish  40.0  70000.0               95.0\n",
      "6        Raj  25.0  48000.0               80.0\n",
      "7     Simran  32.0  58000.0               89.0\n"
     ]
    },
    {
     "name": "stderr",
     "output_type": "stream",
     "text": [
      "C:\\Users\\dell\\AppData\\Local\\Temp\\ipykernel_9196\\269581400.py:17: FutureWarning: DataFrame.interpolate with object dtype is deprecated and will raise in a future version. Call obj.infer_objects(copy=False) before interpolating instead.\n",
      "  df.interpolate(method=\"linear\", axis=0, inplace=True)\n"
     ]
    }
   ],
   "source": [
    "#interpolation\n",
    "# #interpolate() - use \n",
    "'''\n",
    "interpolation main use - \n",
    "time series data\n",
    "numeric data with trends\n",
    "avoid dropping rows\n",
    "'''\n",
    "\n",
    "data = {\n",
    "    \"Name\":[\"Ram\",\"Shyam\",\"Ghanshym\",\"Dhanshyam\",\"Aditya\",\"Jagdish\",\"Raj\",\"Simran\"],\n",
    "    \"Age\":[28,None,22,30,29,40,25,32],\n",
    "    \"Salary\":[50000,None,45000,52000,49000,70000,48000,58000],\n",
    "    \"Performance_Score\":[85,None,78,92,88,95,80,89]\n",
    "}\n",
    "\n",
    "df = pd.DataFrame(data)\n",
    "print(df)\n",
    "\n",
    "\n",
    "#linear, polynomial, time\n",
    "\n",
    "df.interpolate(method=\"linear\", axis=0, inplace=True)\n",
    "print(df)"
   ]
  },
  {
   "cell_type": "code",
   "execution_count": 26,
   "id": "0155daa8",
   "metadata": {},
   "outputs": [
    {
     "name": "stdout",
     "output_type": "stream",
     "text": [
      "Before interpolation\n",
      "   Time  value\n",
      "0     1   10.0\n",
      "1     2    NaN\n",
      "2     3   30.0\n",
      "3     4    NaN\n",
      "4     5   50.0\n",
      "\n",
      "\n",
      "After interpolation\n",
      "   Time  value\n",
      "0     1   10.0\n",
      "1     2   20.0\n",
      "2     3   30.0\n",
      "3     4   40.0\n",
      "4     5   50.0\n"
     ]
    }
   ],
   "source": [
    "#linear dataframe\n",
    "\n",
    "data1 = {\n",
    "    \"Time\":[1,2,3,4,5],\n",
    "    \"value\":[10,None,30,None,50]\n",
    "}\n",
    "\n",
    "df = pd.DataFrame(data1)\n",
    "print(\"Before interpolation\")\n",
    "print(df)\n",
    "\n",
    "print(\"\\n\\nAfter interpolation\")\n",
    "\n",
    "df[\"value\"] = df[\"value\"].interpolate(method=\"linear\")\n",
    "print(df)"
   ]
  },
  {
   "cell_type": "code",
   "execution_count": 33,
   "id": "31e8df09",
   "metadata": {},
   "outputs": [
    {
     "name": "stdout",
     "output_type": "stream",
     "text": [
      "    Name  Age  Salary\n",
      "2  Karan   22   30000\n",
      "0   Arun   28   10000\n",
      "1  Varun   34   20000\n"
     ]
    }
   ],
   "source": [
    "#sorting \n",
    "#sorting data 1 column sort_values()\n",
    "\n",
    "data2 = {\n",
    "    \"Name\": [\"Arun\",\"Varun\",\"Karan\"],\n",
    "    \"Age\": [28,34,22],\n",
    "    \"Salary\": [10000,20000,30000]\n",
    "}\n",
    "\n",
    "df = pd.DataFrame(data2)\n",
    "\n",
    "df.sort_values(by=\"Age\", ascending=True, inplace=True)\n",
    "print(df)"
   ]
  },
  {
   "cell_type": "code",
   "execution_count": 34,
   "id": "cf2bba44",
   "metadata": {},
   "outputs": [
    {
     "name": "stdout",
     "output_type": "stream",
     "text": [
      "    Name  Age  Salary\n",
      "2  Karan   22   30000\n",
      "0   Arun   28   10000\n",
      "1  Varun   34   20000\n"
     ]
    }
   ],
   "source": [
    "#sorting data multiple columns\n",
    "\n",
    "df.sort_values(by=[\"Age\", \"Salary\"], ascending=[True, False], inplace=True)\n",
    "print(df)"
   ]
  },
  {
   "cell_type": "code",
   "execution_count": 35,
   "id": "f1af29f5",
   "metadata": {},
   "outputs": [
    {
     "name": "stdout",
     "output_type": "stream",
     "text": [
      "20000.0\n"
     ]
    }
   ],
   "source": [
    "#aggregation\n",
    "'''\n",
    "df[\"columnName\"].mean()\n",
    "df[\"columnName\"].sum()\n",
    "df[\"columnName\"].min()\n",
    "df[\"columnName\"].max()\n",
    "'''\n",
    "\n",
    "data2 = {\n",
    "    \"Name\": [\"Arun\",\"Varun\",\"Karan\"],\n",
    "    \"Age\": [28,34,22],\n",
    "    \"Salary\": [10000,20000,30000]\n",
    "}\n",
    "\n",
    "df = pd.DataFrame(data2)\n",
    "\n",
    "avg_salary = df[\"Salary\"].mean()\n",
    "print(avg_salary)"
   ]
  },
  {
   "cell_type": "code",
   "execution_count": null,
   "id": "7d320f82",
   "metadata": {},
   "outputs": [
    {
     "name": "stdout",
     "output_type": "stream",
     "text": [
      "Age\n",
      "22     45000\n",
      "28     98000\n",
      "34    112000\n",
      "Name: Salary, dtype: int64\n"
     ]
    }
   ],
   "source": [
    "#grouping\n",
    "\n",
    "data2 = {\n",
    "    \"Name\": [\"Arun\",\"Varun\",\"Karan\",\"Narun\",\"Marun\"],\n",
    "    \"Age\": [28,34,22,34,28],\n",
    "    \"Salary\": [50000,60000,45000,52000,48000]\n",
    "}\n",
    "\n",
    "df = pd.DataFrame(data2)\n",
    "grouped = df.groupby(\"Age\")[\"Salary\"].sum()\n",
    "print(grouped)\n",
    "\n",
    "'''\n",
    "df.groupby(\"Age\")\n",
    "age = 22 > [45000] =\n",
    "age = 28 [50000, 48000] =\n",
    "age = 34 [60000, 52000]\n",
    "\n",
    "[Salary].sum()\n",
    "age = 22 > [45000] = 45000\n",
    "age = 28 [50000, 48000] = 98000\n",
    "age = 34 [60000, 52000] = 112000\n",
    "'''\n"
   ]
  },
  {
   "cell_type": "code",
   "execution_count": null,
   "id": "d506a482",
   "metadata": {},
   "outputs": [
    {
     "name": "stdout",
     "output_type": "stream",
     "text": [
      "Age  Name \n",
      "22   Karan    45000\n",
      "28   Arun     50000\n",
      "     Marun    48000\n",
      "34   Narun    52000\n",
      "     Varun    60000\n",
      "Name: Salary, dtype: int64\n"
     ]
    }
   ],
   "source": [
    "#mulitple column grouped then apply aggregation\n",
    "\n",
    "\n",
    "data2 = {\n",
    "    \"Name\": [\"Arun\",\"Varun\",\"Karan\",\"Narun\",\"Marun\"],\n",
    "    \"Age\": [28,34,22,34,28],\n",
    "    \"Salary\": [50000,60000,45000,52000,48000]\n",
    "}\n",
    "\n",
    "df = pd.DataFrame(data2)\n",
    "grouped = df.groupby([\"Age\",\"Name\"])[\"Salary\"].sum()\n",
    "print(grouped)"
   ]
  },
  {
   "cell_type": "code",
   "execution_count": null,
   "id": "a4585478",
   "metadata": {
    "vscode": {
     "languageId": "xml"
    }
   },
   "outputs": [],
   "source": [
    "sum() - add all values of a group\n",
    "count() - non NaN count\n",
    "mean() - average\n",
    "min() - return minimum values\n",
    "max() - return maximum values\n",
    "std() - return stardard deviation"
   ]
  },
  {
   "cell_type": "code",
   "execution_count": 44,
   "id": "e4438306",
   "metadata": {},
   "outputs": [
    {
     "name": "stdout",
     "output_type": "stream",
     "text": [
      "inner join\n",
      "   CustomerId    Name  OrderAmount\n",
      "0           1  Ramesh          250\n",
      "1           2  Suresh          450\n",
      "\n",
      "\n",
      "outer join\n",
      "   CustomerId     Name  OrderAmount\n",
      "0           1   Ramesh        250.0\n",
      "1           2   Suresh        450.0\n",
      "2           3  Kalpesh          NaN\n",
      "3           4      NaN        350.0\n",
      "\n",
      "\n",
      "left join\n",
      "   CustomerId     Name  OrderAmount\n",
      "0           1   Ramesh        250.0\n",
      "1           2   Suresh        450.0\n",
      "2           3  Kalpesh          NaN\n",
      "\n",
      "\n",
      "right join\n",
      "   CustomerId    Name  OrderAmount\n",
      "0           1  Ramesh          250\n",
      "1           2  Suresh          450\n",
      "2           4     NaN          350\n"
     ]
    },
    {
     "data": {
      "text/plain": [
       "'\\nfor cross join\\n1df = m rows\\n2df = n rows\\nm*n rows\\n'"
      ]
     },
     "execution_count": 44,
     "metadata": {},
     "output_type": "execute_result"
    }
   ],
   "source": [
    "#merging \n",
    "#syntax = pd.merge(df1,df2, on=\"column name\",how=\"type of join\")\n",
    "\n",
    "df_customers = pd.DataFrame({\n",
    "    'CustomerId':[1,2,3],\n",
    "    'Name':['Ramesh', 'Suresh','Kalpesh']\n",
    "})\n",
    "\n",
    "df_orders = pd.DataFrame({\n",
    "    'CustomerId':[1,2,4],\n",
    "    'OrderAmount':[250,450,350]\n",
    "})\n",
    "\n",
    "#merge\n",
    "#inner join\n",
    "df_merged = pd.merge(df_customers, df_orders, on=\"CustomerId\", how=\"inner\")\n",
    "print(\"inner join\")\n",
    "print(df_merged)\n",
    "\n",
    "#outer join\n",
    "df_merged = pd.merge(df_customers, df_orders, on=\"CustomerId\", how=\"outer\")\n",
    "print(\"\\n\\nouter join\")\n",
    "print(df_merged)\n",
    "\n",
    "\n",
    "#left join\n",
    "df_merged = pd.merge(df_customers, df_orders, on=\"CustomerId\", how=\"left\")\n",
    "print(\"\\n\\nleft join\")\n",
    "print(df_merged)\n",
    "\n",
    "\n",
    "#right join\n",
    "df_merged = pd.merge(df_customers, df_orders, on=\"CustomerId\", how=\"right\")\n",
    "print(\"\\n\\nright join\")\n",
    "print(df_merged)\n",
    "\n",
    "\n",
    "'''\n",
    "for cross join\n",
    "1df = m rows\n",
    "2df = n rows\n",
    "m*n rows\n",
    "'''"
   ]
  },
  {
   "cell_type": "code",
   "execution_count": 47,
   "id": "93683b2e",
   "metadata": {},
   "outputs": [
    {
     "name": "stdout",
     "output_type": "stream",
     "text": [
      "   Customer_id     Name\n",
      "0            1    Gopal\n",
      "1            2     Raju\n",
      "2            3    Shyam\n",
      "3            4  Baburao\n",
      "\n",
      "\n",
      "    0      1  2        3\n",
      "0  1  Gopal  3    Shyam\n",
      "1  2   Raju  4  Baburao\n"
     ]
    }
   ],
   "source": [
    "#concatenate\n",
    "'''vertically (row - wise)\n",
    "horizontally ( column wise)\n",
    "pd.concate([df1, df2, axis=0], ignore_index=True)\n",
    "'''\n",
    "\n",
    "df_region1 = pd.DataFrame({\n",
    "    \"Customer_id\":[1,2],\n",
    "    \"Name\":[\"Gopal\",\"Raju\"]\n",
    "})\n",
    "df_region2 = pd.DataFrame({\n",
    "    \"Customer_id\":[3,4],\n",
    "    \"Name\":[\"Shyam\",\"Baburao\"]\n",
    "})\n",
    "\n",
    "#concatenate vertically\n",
    "\n",
    "df_concat = pd.concat([df_region1, df_region2], ignore_index=True)\n",
    "print(df_concat)\n",
    "\n",
    "#horizontally concatenate\n",
    "df_concat = pd.concat([df_region1, df_region2], axis=1, ignore_index=True)\n",
    "print(\"\\n\\n\",df_concat)"
   ]
  }
 ],
 "metadata": {
  "kernelspec": {
   "display_name": "venv",
   "language": "python",
   "name": "python3"
  },
  "language_info": {
   "codemirror_mode": {
    "name": "ipython",
    "version": 3
   },
   "file_extension": ".py",
   "mimetype": "text/x-python",
   "name": "python",
   "nbconvert_exporter": "python",
   "pygments_lexer": "ipython3",
   "version": "3.12.5"
  }
 },
 "nbformat": 4,
 "nbformat_minor": 5
}
