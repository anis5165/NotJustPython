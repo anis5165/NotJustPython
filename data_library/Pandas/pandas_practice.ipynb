{
 "cells": [
  {
   "cell_type": "code",
   "execution_count": 3,
   "id": "e3eac3fe",
   "metadata": {},
   "outputs": [],
   "source": [
    "import pandas as pd"
   ]
  },
  {
   "cell_type": "code",
   "execution_count": 5,
   "id": "e4e6fcca",
   "metadata": {},
   "outputs": [
    {
     "name": "stdout",
     "output_type": "stream",
     "text": [
      "   StudentID     Name  Math  Science  English  History Grade\n",
      "0        101    Alice    88       92       85       90     A\n",
      "1        102      Bob    76       81       79       74     B\n",
      "2        103  Charlie    65       70       72       68     C\n",
      "3        104    Diana    90       95       93       97     A\n",
      "4        105    Ethan    82       78       80       85     B\n",
      "5        106    Fiona    55       60       58       62     D\n",
      "6        107   George    71       75       73       70     C\n",
      "7        108   Hannah    94       98       96       92     A\n",
      "8        109      Ian    68       65       70       72     C\n",
      "9        110    Jenny    84       88       86       83     B\n"
     ]
    }
   ],
   "source": [
    "df = pd.read_csv(\"student_dataset.csv\")\n",
    "print(df)"
   ]
  },
  {
   "cell_type": "code",
   "execution_count": 9,
   "id": "7049e5f2",
   "metadata": {},
   "outputs": [
    {
     "name": "stdout",
     "output_type": "stream",
     "text": [
      "First 5 rows:\n",
      "    StudentID     Name  Math  Science  English  History Grade\n",
      "0        101    Alice    88       92       85       90     A\n",
      "1        102      Bob    76       81       79       74     B\n",
      "2        103  Charlie    65       70       72       68     C\n",
      "3        104    Diana    90       95       93       97     A\n",
      "4        105    Ethan    82       78       80       85     B\n",
      "last 5 rows:\n",
      "    StudentID    Name  Math  Science  English  History Grade\n",
      "5        106   Fiona    55       60       58       62     D\n",
      "6        107  George    71       75       73       70     C\n",
      "7        108  Hannah    94       98       96       92     A\n",
      "8        109     Ian    68       65       70       72     C\n",
      "9        110   Jenny    84       88       86       83     B\n",
      "Display the info of dataset\n",
      "<class 'pandas.core.frame.DataFrame'>\n",
      "RangeIndex: 10 entries, 0 to 9\n",
      "Data columns (total 7 columns):\n",
      " #   Column     Non-Null Count  Dtype \n",
      "---  ------     --------------  ----- \n",
      " 0   StudentID  10 non-null     int64 \n",
      " 1   Name       10 non-null     object\n",
      " 2   Math       10 non-null     int64 \n",
      " 3   Science    10 non-null     int64 \n",
      " 4   English    10 non-null     int64 \n",
      " 5   History    10 non-null     int64 \n",
      " 6   Grade      10 non-null     object\n",
      "dtypes: int64(5), object(2)\n",
      "memory usage: 692.0+ bytes\n",
      "None\n"
     ]
    }
   ],
   "source": [
    "print(\"First 5 rows:\\n\",df.head())\n",
    "print(\"last 5 rows:\\n\",df.tail())\n",
    "\n",
    "print(\"Display the info of dataset\")\n",
    "print(df.info())"
   ]
  },
  {
   "cell_type": "code",
   "execution_count": 15,
   "id": "97dffbd2",
   "metadata": {},
   "outputs": [
    {
     "name": "stdout",
     "output_type": "stream",
     "text": [
      "Describe the complete dataset\n",
      "       StudentID       Math    Science    English    History\n",
      "count   10.00000  10.000000  10.000000  10.000000  10.000000\n",
      "mean   105.50000  77.300000  80.200000  79.200000  79.300000\n",
      "std      3.02765  12.463725  12.959767  11.438726  11.690927\n",
      "min    101.00000  55.000000  60.000000  58.000000  62.000000\n",
      "25%    103.25000  68.750000  71.250000  72.250000  70.500000\n",
      "50%    105.50000  79.000000  79.500000  79.500000  78.500000\n",
      "75%    107.75000  87.000000  91.000000  85.750000  88.750000\n",
      "max    110.00000  94.000000  98.000000  96.000000  97.000000\n",
      "\n",
      "Shape is - (10, 7)\n",
      "\n",
      "Columns is - Index(['StudentID', 'Name', 'Math', 'Science', 'English', 'History', 'Grade'], dtype='object')\n"
     ]
    }
   ],
   "source": [
    "#descibe\n",
    "print(\"Describe the complete dataset\")\n",
    "print(df.describe())\n",
    "\n",
    "\n",
    "#shape\n",
    "print(\"\\nShape is -\",df.shape)\n",
    "\n",
    "#column\n",
    "print(\"\\nColumns is -\",df.columns)"
   ]
  },
  {
   "cell_type": "code",
   "execution_count": 18,
   "id": "195e9d60",
   "metadata": {},
   "outputs": [
    {
     "name": "stdout",
     "output_type": "stream",
     "text": [
      "\n",
      "\n",
      "StudentID (single column returns series)\n",
      "0    101\n",
      "1    102\n",
      "2    103\n",
      "3    104\n",
      "4    105\n",
      "5    106\n",
      "6    107\n",
      "7    108\n",
      "8    109\n",
      "9    110\n",
      "Name: StudentID, dtype: int64\n",
      "   StudentID  Math  Science\n",
      "0        101    88       92\n",
      "1        102    76       81\n",
      "2        103    65       70\n",
      "3        104    90       95\n",
      "4        105    82       78\n",
      "5        106    55       60\n",
      "6        107    71       75\n",
      "7        108    94       98\n",
      "8        109    68       65\n",
      "9        110    84       88\n"
     ]
    }
   ],
   "source": [
    "# access\n",
    "print(\"\\n\\nStudentID (single column returns series)\")\n",
    "print(df['StudentID'])\n",
    "\n",
    "#multiple access\n",
    "print(df[['StudentID','Math','Science']])\n"
   ]
  },
  {
   "cell_type": "code",
   "execution_count": 30,
   "id": "8b6a12c9",
   "metadata": {},
   "outputs": [
    {
     "name": "stdout",
     "output_type": "stream",
     "text": [
      "   StudentID     Name  Math  Science  English  History Grade\n",
      "2        103  Charlie    65       70       72       68     C\n",
      "5        106    Fiona    55       60       58       62     D\n",
      "8        109      Ian    68       65       70       72     C\n",
      "   StudentID    Name  Math  Science  English  History Grade\n",
      "0        101   Alice    88       92       85       90     A\n",
      "1        102     Bob    76       81       79       74     B\n",
      "3        104   Diana    90       95       93       97     A\n",
      "4        105   Ethan    82       78       80       85     B\n",
      "6        107  George    71       75       73       70     C\n",
      "9        110   Jenny    84       88       86       83     B\n",
      "   StudentID     Name  Math  Science  English  History Grade\n",
      "0        101    Alice    88       92       85       90     A\n",
      "2        103  Charlie    65       70       72       68     C\n",
      "4        105    Ethan    82       78       80       85     B\n",
      "7        108   Hannah    94       98       96       92     A\n",
      "9        110    Jenny    84       88       86       83     B\n"
     ]
    }
   ],
   "source": [
    "# filter rows\n",
    "filtered_row = df[df['Math'] < 70]\n",
    "print(filtered_row)\n",
    "\n",
    "#filter row with multiple condition\n",
    "filtered_row = df[(df['Math'] >= 70) & (df['Math'] <= 90)]\n",
    "print(filtered_row)\n",
    "\n",
    "filtered_row2 = df[(df['Science'] > 60) & (df['Science'] % 2 == 0)]\n",
    "print(filtered_row2)"
   ]
  },
  {
   "cell_type": "code",
   "execution_count": null,
   "id": "96d0aa88",
   "metadata": {},
   "outputs": [
    {
     "name": "stdout",
     "output_type": "stream",
     "text": [
      "   StudentID     Name  Math  Science  English  History Grade  Computer\n",
      "0        101    Alice    88       92       85       90     A        44\n",
      "1        102      Bob    76       81       79       74     B        38\n",
      "2        103  Charlie    65       70       72       68     C        32\n",
      "3        104    Diana    90       95       93       97     A        45\n",
      "4        105    Ethan    82       78       80       85     B        41\n",
      "5        106    Fiona    55       60       58       62     D        27\n",
      "6        107   George    71       75       73       70     C        35\n",
      "7        108   Hannah    94       98       96       92     A        47\n",
      "8        109      Ian    68       65       70       72     C        34\n",
      "9        110    Jenny    84       88       86       83     B        42\n",
      "   StudentID     Name  Math  Science  English  History Grade  Computer  Hindi\n",
      "0        101    Alice    88       92       85       90     A        44     80\n",
      "1        102      Bob    76       81       79       74     B        38     56\n",
      "2        103  Charlie    65       70       72       68     C        32     96\n",
      "3        104    Diana    90       95       93       97     A        45     75\n",
      "4        105    Ethan    82       78       80       85     B        41     48\n",
      "5        106    Fiona    55       60       58       62     D        27     53\n",
      "6        107   George    71       75       73       70     C        35     62\n",
      "7        108   Hannah    94       98       96       92     A        47     43\n",
      "8        109      Ian    68       65       70       72     C        34     85\n",
      "9        110    Jenny    84       88       86       83     B        42     81\n"
     ]
    }
   ],
   "source": [
    "#adding new column\n",
    "df['Computer'] = df['Math'] // 2 \n",
    "print(df)\n",
    "\n",
    "df['Hindi'] = [80,56,96,75,48,53,62,43,85,81]\n",
    "print(df)\n",
    "\n",
    "\n"
   ]
  },
  {
   "cell_type": "code",
   "execution_count": 58,
   "id": "26478df8",
   "metadata": {},
   "outputs": [
    {
     "name": "stdout",
     "output_type": "stream",
     "text": [
      "   StudentID     Name  Math  Ar  Art  Science  English  History Grade\n",
      "0        101    Alice  44.0  90   90       92       85       90     A\n",
      "1        102      Bob  38.0  60   60       81       79       74     B\n",
      "2        103  Charlie  32.5  70   70       70       72       68     C\n",
      "3        104    Diana  45.0  80   80       95       93       97     A\n",
      "4        105    Ethan  41.0  45   45       78       80       85     B\n",
      "5        106    Fiona  27.5  78   78       60       58       62     D\n",
      "6        107   George  35.5  80   80       75       73       70     C\n",
      "7        108   Hannah  47.0  85   85       98       96       92     A\n",
      "8        109      Ian  34.0  82   82       65       70       72     C\n",
      "9        110    Jenny  42.0  71   71       88       86       83     B\n"
     ]
    }
   ],
   "source": [
    "# adding using insert method\n",
    "df.insert(3,\"Ar\",[90,60,70,80,45,78,80,85,82,71])\n",
    "print(df)\n",
    "\n"
   ]
  },
  {
   "cell_type": "code",
   "execution_count": 50,
   "id": "2297c2dc",
   "metadata": {},
   "outputs": [
    {
     "name": "stdout",
     "output_type": "stream",
     "text": [
      "0    44.0\n",
      "1    38.0\n",
      "2    96.0\n",
      "3    45.0\n",
      "4    41.0\n",
      "5    27.5\n",
      "6    35.5\n",
      "7    47.0\n",
      "8    34.0\n",
      "9    42.0\n",
      "Name: Math, dtype: float64\n"
     ]
    }
   ],
   "source": [
    "#updating using loc\n",
    "df.loc[2,'Math'] = 96\n",
    "print(df['Math'])"
   ]
  },
  {
   "cell_type": "code",
   "execution_count": 52,
   "id": "77b67dec",
   "metadata": {},
   "outputs": [
    {
     "name": "stdout",
     "output_type": "stream",
     "text": [
      "   StudentID     Name  Math  Science  English  History Grade\n",
      "0        101    Alice  44.0       92       85       90     A\n",
      "1        102      Bob  38.0       81       79       74     B\n",
      "2        103  Charlie  32.5       70       72       68     C\n",
      "3        104    Diana  45.0       95       93       97     A\n",
      "4        105    Ethan  41.0       78       80       85     B\n",
      "5        106    Fiona  27.5       60       58       62     D\n",
      "6        107   George  35.5       75       73       70     C\n",
      "7        108   Hannah  47.0       98       96       92     A\n",
      "8        109      Ian  34.0       65       70       72     C\n",
      "9        110    Jenny  42.0       88       86       83     B\n"
     ]
    }
   ],
   "source": [
    "#decresing number by 50%\n",
    "df = pd.read_csv(\"student_dataset.csv\")\n",
    "df['Math'] = df['Math'] * 0.5\n",
    "print(df)"
   ]
  },
  {
   "cell_type": "code",
   "execution_count": 64,
   "id": "2808ce4f",
   "metadata": {},
   "outputs": [
    {
     "name": "stdout",
     "output_type": "stream",
     "text": [
      "   StudentID     Name  Science  English Grade\n",
      "0        101    Alice       92       85     A\n",
      "1        102      Bob       81       79     B\n",
      "2        103  Charlie       70       72     C\n",
      "3        104    Diana       95       93     A\n",
      "4        105    Ethan       78       80     B\n",
      "5        106    Fiona       60       58     D\n",
      "6        107   George       75       73     C\n",
      "7        108   Hannah       98       96     A\n",
      "8        109      Ian       65       70     C\n",
      "9        110    Jenny       88       86     B\n"
     ]
    }
   ],
   "source": [
    "#reoving column\n",
    "# df.drop(columns=[\"Art\"], inplace=True)\n",
    "# df.drop(columns=[\"Ar\"], inplace=True)\n",
    "# print(df)\n",
    "\n",
    "\n",
    "#remove multiple column\n",
    "df.drop(columns=[\"History\",\"Math\"], inplace=True)\n",
    "print(df)\n"
   ]
  },
  {
   "cell_type": "code",
   "execution_count": 69,
   "id": "d6620d90",
   "metadata": {},
   "outputs": [
    {
     "name": "stdout",
     "output_type": "stream",
     "text": [
      "    Name    Age  Salary  Performance_Score\n",
      "0  False  False   False              False\n",
      "1   True   True    True               True\n",
      "2  False  False   False              False\n",
      "3  False  False   False              False\n",
      "4  False  False   False              False\n",
      "5  False  False   False              False\n",
      "6  False  False   False              False\n",
      "7  False  False   False              False\n",
      "Name                 1\n",
      "Age                  1\n",
      "Salary               1\n",
      "Performance_Score    1\n",
      "dtype: int64\n"
     ]
    }
   ],
   "source": [
    "data = {\n",
    "    \"Name\":[\"Ram\",None,\"Ghanshym\",\"Dhanshyam\",\"Aditya\",\"Jagdish\",\"Raj\",\"Simran\"],\n",
    "    \"Age\":[28,None,22,30,29,40,25,32],\n",
    "    \"Salary\":[50000,None,45000,52000,49000,70000,48000,58000],\n",
    "    \"Performance_Score\":[85,None,78,92,88,95,80,89]\n",
    "}\n",
    "\n",
    "df = pd.DataFrame(data)\n",
    "# print(df)\n",
    "\n",
    "print(df.isnull())\n",
    "print(df.isnull().sum()) #return the total number none value in a column"
   ]
  },
  {
   "cell_type": "code",
   "execution_count": 73,
   "id": "185b09c9",
   "metadata": {},
   "outputs": [
    {
     "name": "stdout",
     "output_type": "stream",
     "text": [
      "        Name   Age   Salary  Performance_Score\n",
      "0        Ram  28.0  50000.0               85.0\n",
      "1       None   NaN      NaN                NaN\n",
      "2   Ghanshym  22.0  45000.0               78.0\n",
      "3  Dhanshyam  30.0  52000.0               92.0\n",
      "4     Aditya  29.0  49000.0               88.0\n",
      "5    Jagdish  40.0  70000.0               95.0\n",
      "6        Raj  25.0  48000.0               80.0\n",
      "7     Simran  32.0  58000.0               89.0\n",
      "        Name   Age   Salary  Performance_Score\n",
      "0        Ram  28.0  50000.0               85.0\n",
      "2   Ghanshym  22.0  45000.0               78.0\n",
      "3  Dhanshyam  30.0  52000.0               92.0\n",
      "4     Aditya  29.0  49000.0               88.0\n",
      "5    Jagdish  40.0  70000.0               95.0\n",
      "6        Raj  25.0  48000.0               80.0\n",
      "7     Simran  32.0  58000.0               89.0\n"
     ]
    }
   ],
   "source": [
    "#dropna() - remove missing value\n",
    "\n",
    "data = {\n",
    "    \"Name\":[\"Ram\",None,\"Ghanshym\",\"Dhanshyam\",\"Aditya\",\"Jagdish\",\"Raj\",\"Simran\"],\n",
    "    \"Age\":[28,None,22,30,29,40,25,32],\n",
    "    \"Salary\":[50000,None,45000,52000,49000,70000,48000,58000],\n",
    "    \"Performance_Score\":[85,None,78,92,88,95,80,89]\n",
    "}\n",
    "\n",
    "df = pd.DataFrame(data)\n",
    "print(df)\n",
    "\n",
    "df.dropna(inplace=True)\n",
    "print(df)"
   ]
  },
  {
   "cell_type": "code",
   "execution_count": 80,
   "id": "0e027118",
   "metadata": {},
   "outputs": [
    {
     "name": "stdout",
     "output_type": "stream",
     "text": [
      "        Name   Age   Salary  Performance_Score\n",
      "0        Ram  28.0  50000.0               85.0\n",
      "1       None   NaN      NaN                NaN\n",
      "2   Ghanshym  22.0  45000.0               78.0\n",
      "3  Dhanshyam  30.0  52000.0               92.0\n",
      "4     Aditya  29.0  49000.0               88.0\n",
      "5    Jagdish  40.0  70000.0               95.0\n",
      "6        Raj  25.0  48000.0               80.0\n",
      "7     Simran  32.0  58000.0               89.0\n",
      "        Name        Age        Salary  Performance_Score\n",
      "0        Ram  28.000000  50000.000000          85.000000\n",
      "1       None  29.428571  53142.857143          86.714286\n",
      "2   Ghanshym  22.000000  45000.000000          78.000000\n",
      "3  Dhanshyam  30.000000  52000.000000          92.000000\n",
      "4     Aditya  29.000000  49000.000000          88.000000\n",
      "5    Jagdish  40.000000  70000.000000          95.000000\n",
      "6        Raj  25.000000  48000.000000          80.000000\n",
      "7     Simran  32.000000  58000.000000          89.000000\n"
     ]
    },
    {
     "name": "stderr",
     "output_type": "stream",
     "text": [
      "C:\\Users\\dell\\AppData\\Local\\Temp\\ipykernel_11908\\1036041257.py:13: FutureWarning: A value is trying to be set on a copy of a DataFrame or Series through chained assignment using an inplace method.\n",
      "The behavior will change in pandas 3.0. This inplace method will never work because the intermediate object on which we are setting values always behaves as a copy.\n",
      "\n",
      "For example, when doing 'df[col].method(value, inplace=True)', try using 'df.method({col: value}, inplace=True)' or df[col] = df[col].method(value) instead, to perform the operation inplace on the original object.\n",
      "\n",
      "\n",
      "  df['Age'].fillna(df['Age'].mean(), inplace=True)\n",
      "C:\\Users\\dell\\AppData\\Local\\Temp\\ipykernel_11908\\1036041257.py:14: FutureWarning: A value is trying to be set on a copy of a DataFrame or Series through chained assignment using an inplace method.\n",
      "The behavior will change in pandas 3.0. This inplace method will never work because the intermediate object on which we are setting values always behaves as a copy.\n",
      "\n",
      "For example, when doing 'df[col].method(value, inplace=True)', try using 'df.method({col: value}, inplace=True)' or df[col] = df[col].method(value) instead, to perform the operation inplace on the original object.\n",
      "\n",
      "\n",
      "  df['Salary'].fillna(df['Salary'].mean(), inplace=True)\n",
      "C:\\Users\\dell\\AppData\\Local\\Temp\\ipykernel_11908\\1036041257.py:15: FutureWarning: A value is trying to be set on a copy of a DataFrame or Series through chained assignment using an inplace method.\n",
      "The behavior will change in pandas 3.0. This inplace method will never work because the intermediate object on which we are setting values always behaves as a copy.\n",
      "\n",
      "For example, when doing 'df[col].method(value, inplace=True)', try using 'df.method({col: value}, inplace=True)' or df[col] = df[col].method(value) instead, to perform the operation inplace on the original object.\n",
      "\n",
      "\n",
      "  df['Performance_Score'].fillna(df['Performance_Score'].mean(), inplace=True)\n"
     ]
    }
   ],
   "source": [
    "#fillna() - fill missing values\n",
    "\n",
    "data = {\n",
    "    \"Name\":[\"Ram\",None,\"Ghanshym\",\"Dhanshyam\",\"Aditya\",\"Jagdish\",\"Raj\",\"Simran\"],\n",
    "    \"Age\":[28,None,22,30,29,40,25,32],\n",
    "    \"Salary\":[50000,None,45000,52000,49000,70000,48000,58000],\n",
    "    \"Performance_Score\":[85,None,78,92,88,95,80,89]\n",
    "}\n",
    "\n",
    "df = pd.DataFrame(data)\n",
    "print(df)\n",
    "\n",
    "df['Age'].fillna(df['Age'].mean(), inplace=True)\n",
    "df['Salary'].fillna(df['Salary'].mean(), inplace=True)\n",
    "df['Performance_Score'].fillna(df['Performance_Score'].mean(), inplace=True)\n",
    "print(df)"
   ]
  },
  {
   "cell_type": "code",
   "execution_count": 85,
   "id": "6b677437",
   "metadata": {},
   "outputs": [
    {
     "name": "stdout",
     "output_type": "stream",
     "text": [
      "        Name   Age   Salary  Performance_Score\n",
      "0        Ram  28.0  50000.0               85.0\n",
      "1     Shayam   NaN      NaN                NaN\n",
      "2   Ghanshym  22.0  45000.0               78.0\n",
      "3  Dhanshyam  30.0  52000.0               92.0\n",
      "4     Aditya  29.0  49000.0               88.0\n",
      "5    Jagdish  40.0  70000.0               95.0\n",
      "6        Raj  25.0  48000.0               80.0\n",
      "7     Simran  32.0  58000.0               89.0\n",
      "        Name   Age   Salary  Performance_Score\n",
      "0        Ram  28.0  50000.0               85.0\n",
      "1     Shayam  25.0  47500.0               81.5\n",
      "2   Ghanshym  22.0  45000.0               78.0\n",
      "3  Dhanshyam  30.0  52000.0               92.0\n",
      "4     Aditya  29.0  49000.0               88.0\n",
      "5    Jagdish  40.0  70000.0               95.0\n",
      "6        Raj  25.0  48000.0               80.0\n",
      "7     Simran  32.0  58000.0               89.0\n"
     ]
    },
    {
     "name": "stderr",
     "output_type": "stream",
     "text": [
      "C:\\Users\\dell\\AppData\\Local\\Temp\\ipykernel_11908\\1630781193.py:13: FutureWarning: DataFrame.interpolate with object dtype is deprecated and will raise in a future version. Call obj.infer_objects(copy=False) before interpolating instead.\n",
      "  df = df.interpolate(method='linear',axis=0)\n"
     ]
    }
   ],
   "source": [
    "#interpolation  \n",
    "\n",
    "data = {\n",
    "    \"Name\":[\"Ram\",\"Shayam\",\"Ghanshym\",\"Dhanshyam\",\"Aditya\",\"Jagdish\",\"Raj\",\"Simran\"],\n",
    "    \"Age\":[28,None,22,30,29,40,25,32],\n",
    "    \"Salary\":[50000,None,45000,52000,49000,70000,48000,58000],\n",
    "    \"Performance_Score\":[85,None,78,92,88,95,80,89]\n",
    "}\n",
    "\n",
    "df = pd.DataFrame(data)\n",
    "print(df)\n",
    "\n",
    "df = df.interpolate(method='linear',axis=0)\n",
    "print(df)"
   ]
  },
  {
   "cell_type": "code",
   "execution_count": 87,
   "id": "7a6670be",
   "metadata": {},
   "outputs": [
    {
     "name": "stdout",
     "output_type": "stream",
     "text": [
      "Before interpolation\n",
      "   Time  value\n",
      "0     1   10.0\n",
      "1     2    NaN\n",
      "2     3   30.0\n",
      "3     4    NaN\n",
      "4     5   50.0\n",
      "\n",
      "\n",
      "After interpolation\n",
      "   Time  value\n",
      "0     1   10.0\n",
      "1     2   20.0\n",
      "2     3   30.0\n",
      "3     4   40.0\n",
      "4     5   50.0\n"
     ]
    }
   ],
   "source": [
    "#linear dataframe\n",
    "\n",
    "data1 = {\n",
    "    \"Time\":[1,2,3,4,5],\n",
    "    \"value\":[10,None,30,None,50]\n",
    "}\n",
    "\n",
    "df = pd.DataFrame(data1)\n",
    "print(\"Before interpolation\")\n",
    "print(df)\n",
    "\n",
    "print(\"\\n\\nAfter interpolation\")\n",
    "\n",
    "df[\"value\"] = df[\"value\"].interpolate(method=\"linear\")\n",
    "print(df)"
   ]
  },
  {
   "cell_type": "code",
   "execution_count": 91,
   "id": "798c9a01",
   "metadata": {},
   "outputs": [
    {
     "name": "stdout",
     "output_type": "stream",
     "text": [
      "   StudentID     Name  Math  Science  English  History Grade\n",
      "5        106    Fiona    55       60       58       62     D\n",
      "2        103  Charlie    65       70       72       68     C\n",
      "8        109      Ian    68       65       70       72     C\n",
      "6        107   George    71       75       73       70     C\n",
      "1        102      Bob    76       81       79       74     B\n",
      "4        105    Ethan    82       78       80       85     B\n",
      "9        110    Jenny    84       88       86       83     B\n",
      "0        101    Alice    88       92       85       90     A\n",
      "3        104    Diana    90       95       93       97     A\n",
      "7        108   Hannah    94       98       96       92     A\n",
      "   StudentID     Name  Math  Science  English  History Grade\n",
      "7        108   Hannah    94       98       96       92     A\n",
      "3        104    Diana    90       95       93       97     A\n",
      "0        101    Alice    88       92       85       90     A\n",
      "9        110    Jenny    84       88       86       83     B\n",
      "4        105    Ethan    82       78       80       85     B\n",
      "1        102      Bob    76       81       79       74     B\n",
      "6        107   George    71       75       73       70     C\n",
      "8        109      Ian    68       65       70       72     C\n",
      "2        103  Charlie    65       70       72       68     C\n",
      "5        106    Fiona    55       60       58       62     D\n"
     ]
    }
   ],
   "source": [
    "#sorting \n",
    "#sorting data 1 column sort_values()\n",
    "\n",
    "df = pd.read_csv(\"student_dataset.csv\")\n",
    "df.sort_values(by=\"Math\", ascending=True, inplace=True)\n",
    "print(df)\n",
    "\n",
    "#sorting data multiple column\n",
    "df.sort_values(by=[\"Math\",\"Science\"], ascending=False, inplace=True)\n",
    "print(df)"
   ]
  },
  {
   "cell_type": "code",
   "execution_count": null,
   "id": "64a0b5f7",
   "metadata": {},
   "outputs": [
    {
     "name": "stdout",
     "output_type": "stream",
     "text": [
      "28.0\n",
      "84\n"
     ]
    }
   ],
   "source": [
    "#aggregation function\n",
    "\n",
    "data2 = {\n",
    "    \"Name\": [\"Arun\",\"Varun\",\"Karan\"],\n",
    "    \"Age\": [28,34,22],\n",
    "    \"Salary\": [10000,20000,30000]\n",
    "}\n",
    "df = pd.DataFrame(data2)\n",
    "\n",
    "means = df[\"Age\"].mean()\n",
    "print(means)\n",
    "means = df[\"Age\"].sum()\n",
    "print(means)"
   ]
  },
  {
   "cell_type": "code",
   "execution_count": null,
   "id": "9f932420",
   "metadata": {},
   "outputs": [
    {
     "name": "stdout",
     "output_type": "stream",
     "text": [
      "Age\n",
      "22     45000\n",
      "28     98000\n",
      "34    112000\n",
      "Name: Salary, dtype: int64\n"
     ]
    }
   ],
   "source": [
    "#grouping\n",
    "\n",
    "data2 = {\n",
    "    \"Name\": [\"Arun\",\"Varun\",\"Karan\",\"Narun\",\"Marun\"],\n",
    "    \"Age\": [28,34,22,34,28],\n",
    "    \"Salary\": [50000,60000,45000,52000,48000]\n",
    "}\n",
    "df = pd.DataFrame(data2)\n",
    "\n",
    "grouped = df.groupby(\"Age\")[\"Salary\"].sum()\n",
    "print(grouped)\n",
    "\n"
   ]
  },
  {
   "cell_type": "code",
   "execution_count": 101,
   "id": "5c940056",
   "metadata": {},
   "outputs": [
    {
     "name": "stdout",
     "output_type": "stream",
     "text": [
      "     Salary  Name\n",
      "Age              \n",
      "22    45000     1\n",
      "28    98000     2\n",
      "34   112000     2\n"
     ]
    }
   ],
   "source": [
    "#multiple column group then apply aggregation function\n",
    "grouped = df.groupby(\"Age\").agg({\"Salary\":\"sum\",\"Name\":\"count\"})\n",
    "print(grouped)"
   ]
  },
  {
   "cell_type": "code",
   "execution_count": 103,
   "id": "e679fabc",
   "metadata": {},
   "outputs": [
    {
     "name": "stdout",
     "output_type": "stream",
     "text": [
      "   EmployeeID       Name Department\n",
      "0           3   Ghanshym         IT\n",
      "1           4  Dhanshyam         HR\n",
      "   EmployeeID       Name Department\n",
      "0           1        Ram        NaN\n",
      "1           2      Shyam        NaN\n",
      "2           3   Ghanshym         IT\n",
      "3           4  Dhanshyam         HR\n",
      "   EmployeeID       Name Department\n",
      "0           3   Ghanshym         IT\n",
      "1           4  Dhanshyam         HR\n",
      "2           5        NaN    Finance\n",
      "3           6        NaN      Admin\n",
      "   EmployeeID       Name Department\n",
      "0           1        Ram        NaN\n",
      "1           2      Shyam        NaN\n",
      "2           3   Ghanshym         IT\n",
      "3           4  Dhanshyam         HR\n",
      "4           5        NaN    Finance\n",
      "5           6        NaN      Admin\n"
     ]
    }
   ],
   "source": [
    "#merging \n",
    "#syntax = pd.merge(df1,df2, on=\"column name\",how=\"type of join\")\n",
    "\n",
    "data1 = {\n",
    "    \"EmployeeID\":[1,2,3,4],\n",
    "    \"Name\":[\"Ram\",\"Shyam\",\"Ghanshym\",\"Dhanshyam\"]\n",
    "}\n",
    "df1 = pd.DataFrame(data1)\n",
    "data2 = {\n",
    "    \"EmployeeID\":[3,4,5,6],\n",
    "    \"Department\":[\"IT\",\"HR\",\"Finance\",\"Admin\"]\n",
    "}\n",
    "df2 = pd.DataFrame(data2)\n",
    "\n",
    "merge_inner = pd.merge(df1,df2, on=\"EmployeeID\", how=\"inner\")\n",
    "print(merge_inner)\n",
    "\n",
    "merge_left = pd.merge(df1,df2, on=\"EmployeeID\", how=\"left\")\n",
    "print(merge_left)\n",
    "\n",
    "merge_right = pd.merge(df1,df2, on=\"EmployeeID\", how=\"right\")\n",
    "print(merge_right)\n",
    "\n",
    "merge_outer = pd.merge(df1,df2, on=\"EmployeeID\", how=\"outer\")\n",
    "print(merge_outer)\n",
    "\n"
   ]
  },
  {
   "cell_type": "code",
   "execution_count": 105,
   "id": "b97ddeab",
   "metadata": {},
   "outputs": [
    {
     "name": "stdout",
     "output_type": "stream",
     "text": [
      "   EmployeeID       Name\n",
      "0           1        Ram\n",
      "1           2      Shyam\n",
      "2           3   Ghanshym\n",
      "3           4  Dhanshyam\n",
      "4           5       Arun\n",
      "5           6      Varun\n",
      "6           7      Karan\n",
      "7           8      Naran\n",
      "   EmployeeID       Name  EmployeeID   Name\n",
      "0           1        Ram           5   Arun\n",
      "1           2      Shyam           6  Varun\n",
      "2           3   Ghanshym           7  Karan\n",
      "3           4  Dhanshyam           8  Naran\n"
     ]
    }
   ],
   "source": [
    "#concatenate\n",
    "'''vertically (row - wise)\n",
    "horizontally ( column wise)\n",
    "pd.concate([df1, df2, axis=0], ignore_index=True)\n",
    "'''\n",
    "\n",
    "data1 = {\n",
    "    \"EmployeeID\":[1,2,3,4],\n",
    "    \"Name\":[\"Ram\",\"Shyam\",\"Ghanshym\",\"Dhanshyam\"]\n",
    "}\n",
    "df1 = pd.DataFrame(data1)\n",
    "data2 = {\n",
    "    \"EmployeeID\":[5,6,7,8],\n",
    "    \"Name\":[\"Arun\",\"Varun\",\"Karan\",\"Naran\"]\n",
    "}\n",
    "df2 = pd.DataFrame(data2)\n",
    "\n",
    "concat_row = pd.concat([df1,df2], axis=0, ignore_index=True)\n",
    "print(concat_row)\n",
    "\n",
    "concat_column = pd.concat([df1,df2], axis=1)\n",
    "print(concat_column)"
   ]
  }
 ],
 "metadata": {
  "kernelspec": {
   "display_name": "venv",
   "language": "python",
   "name": "python3"
  },
  "language_info": {
   "codemirror_mode": {
    "name": "ipython",
    "version": 3
   },
   "file_extension": ".py",
   "mimetype": "text/x-python",
   "name": "python",
   "nbconvert_exporter": "python",
   "pygments_lexer": "ipython3",
   "version": "3.12.5"
  }
 },
 "nbformat": 4,
 "nbformat_minor": 5
}
