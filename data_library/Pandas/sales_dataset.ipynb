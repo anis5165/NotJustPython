{
 "cells": [
  {
   "cell_type": "code",
   "execution_count": 1,
   "id": "08e1dea7",
   "metadata": {},
   "outputs": [],
   "source": [
    "import pandas as pd"
   ]
  },
  {
   "cell_type": "code",
   "execution_count": 29,
   "id": "73d617db",
   "metadata": {},
   "outputs": [
    {
     "name": "stdout",
     "output_type": "stream",
     "text": [
      "   OrderID Customer     Product     Category  Quantity  Price   OrderDate\n",
      "0     1001    Alice       Phone  Electronics         1    699  2024-01-15\n",
      "1     1002      Bob      Laptop  Electronics         1   1200  2024-01-12\n",
      "2     1003  Charlie        Book   Stationery         3     15  2024-02-02\n",
      "3     1004    Alice  Headphones  Electronics         2    199  2024-02-20\n",
      "4     1005      Eva         Pen   Stationery        10      2  2024-03-01\n",
      "5     1006    David      Tablet  Electronics         1    450  2024-03-05\n",
      "6     1007      Bob    Notebook   Stationery         5      5  2024-03-12\n",
      "7     1008    Fiona      Camera  Electronics         1    850  2024-03-18\n",
      "8     1009   George        Book   Stationery         2     12  2024-04-01\n",
      "9     1010      Eva       Phone  Electronics         1    699  2024-04-07\n"
     ]
    }
   ],
   "source": [
    "df = pd.read_csv(\"sales_dataset.csv\")\n",
    "print(df)"
   ]
  },
  {
   "cell_type": "code",
   "execution_count": 16,
   "id": "d9ccce6e",
   "metadata": {},
   "outputs": [
    {
     "name": "stdout",
     "output_type": "stream",
     "text": [
      "Rows and Columns is: (10, 7)\n",
      "**************************************\n",
      "the data types of each column:\n",
      " OrderID       int64\n",
      "Customer     object\n",
      "Product      object\n",
      "Category     object\n",
      "Quantity      int64\n",
      "Price         int64\n",
      "OrderDate    object\n",
      "dtype: object\n",
      "**************************************\n",
      "   OrderID Customer   Product    Category  Quantity  Price   OrderDate\n",
      "2     1003  Charlie      Book  Stationery         3     15  2024-02-02\n",
      "4     1005      Eva       Pen  Stationery        10      2  2024-03-01\n",
      "6     1007      Bob  Notebook  Stationery         5      5  2024-03-12\n",
      "8     1009   George      Book  Stationery         2     12  2024-04-01\n",
      "**************************************\n",
      "  Customer     Product  Quantity\n",
      "0    Alice       Phone         1\n",
      "1      Bob      Laptop         1\n",
      "2  Charlie        Book         3\n",
      "3    Alice  Headphones         2\n",
      "4      Eva         Pen        10\n",
      "5    David      Tablet         1\n",
      "6      Bob    Notebook         5\n",
      "7    Fiona      Camera         1\n",
      "8   George        Book         2\n",
      "9      Eva       Phone         1\n",
      "**************************************\n",
      "   OrderID Customer     Product     Category  Quantity  Price   OrderDate\n",
      "0     1001    Alice       Phone  Electronics         1    699  2024-01-12\n",
      "3     1004    Alice  Headphones  Electronics         2    199  2024-02-20\n"
     ]
    }
   ],
   "source": [
    "# Level 1: Basics\n",
    "# How many rows and columns does it have?\n",
    "print(\"Rows and Columns is:\",df.shape)\n",
    "print(\"**************************************\")\n",
    "\n",
    "#What are the data types of each column?\n",
    "print(\"the data types of each column:\\n\",df.dtypes)\n",
    "print(\"**************************************\")\n",
    "\n",
    "#Select only the rows where Category = \"Stationery\".\n",
    "rows =  df[df[\"Category\"]==\"Stationery\"]\n",
    "print(rows)\n",
    "print(\"**************************************\")\n",
    "\n",
    "#Show only the Customer, Product, and Quantity\n",
    "selected_column = df[[\"Customer\",\"Product\",\"Quantity\"]]\n",
    "print(selected_column)\n",
    "print(\"**************************************\")\n",
    "\n",
    "#Find all orders made by Alice.\n",
    "print(df[df[\"Customer\"] == \"Alice\"])\n"
   ]
  },
  {
   "cell_type": "code",
   "execution_count": 28,
   "id": "7bf5cef9",
   "metadata": {},
   "outputs": [
    {
     "name": "stdout",
     "output_type": "stream",
     "text": [
      "   OrderID Customer Product     Category  Quantity  Price   OrderDate\n",
      "0     1001    Alice   Phone  Electronics         1    699  2024-01-15\n",
      "1     1002      Bob  Laptop  Electronics         1   1200  2024-01-12\n",
      "7     1008    Fiona  Camera  Electronics         1    850  2024-03-18\n",
      "9     1010      Eva   Phone  Electronics         1    699  2024-04-07\n",
      "**************************************\n",
      "   OrderID Customer   Product     Category  Quantity  Price   OrderDate\n",
      "5     1006    David    Tablet  Electronics         1    450  2024-03-05\n",
      "6     1007      Bob  Notebook   Stationery         5      5  2024-03-12\n",
      "7     1008    Fiona    Camera  Electronics         1    850  2024-03-18\n",
      "8     1009   George      Book   Stationery         2     12  2024-04-01\n",
      "9     1010      Eva     Phone  Electronics         1    699  2024-04-07\n",
      "**************************************\n",
      "   OrderID Customer     Product     Category  Quantity  Price   OrderDate\n",
      "1     1002      Bob      Laptop  Electronics         1   1200  2024-01-12\n",
      "0     1001    Alice       Phone  Electronics         1    699  2024-01-15\n",
      "2     1003  Charlie        Book   Stationery         3     15  2024-02-02\n",
      "3     1004    Alice  Headphones  Electronics         2    199  2024-02-20\n",
      "4     1005      Eva         Pen   Stationery        10      2  2024-03-01\n",
      "5     1006    David      Tablet  Electronics         1    450  2024-03-05\n",
      "6     1007      Bob    Notebook   Stationery         5      5  2024-03-12\n",
      "7     1008    Fiona      Camera  Electronics         1    850  2024-03-18\n",
      "8     1009   George        Book   Stationery         2     12  2024-04-01\n",
      "9     1010      Eva       Phone  Electronics         1    699  2024-04-07\n"
     ]
    }
   ],
   "source": [
    "# Level 2: Filtering & Sorting\n",
    "# Show all orders where the Price > 500.\n",
    "print(df[df[\"Price\"] > 500])\n",
    "print(\"**************************************\")\n",
    "\n",
    "# Find all orders made after \"2024-03-01\".\n",
    "print(df[df[\"OrderDate\"] > \"2024-03-01\"])\n",
    "print(\"**************************************\")\n",
    "\n",
    "# Sort all orders by OrderDate (ascending).\n",
    "df.sort_values(by=\"OrderDate\", ascending=True, inplace=True)\n",
    "print(df)\n"
   ]
  },
  {
   "cell_type": "code",
   "execution_count": 49,
   "id": "b7a21894",
   "metadata": {},
   "outputs": [
    {
     "name": "stdout",
     "output_type": "stream",
     "text": [
      "   OrderID Customer     Product     Category  Quantity  Price   OrderDate  \\\n",
      "0     1001    Alice       Phone  Electronics         1    699  2024-01-15   \n",
      "1     1002      Bob      Laptop  Electronics         1   1200  2024-01-12   \n",
      "2     1003  Charlie        Book   Stationery         3     15  2024-02-02   \n",
      "3     1004    Alice  Headphones  Electronics         2    199  2024-02-20   \n",
      "4     1005      Eva         Pen   Stationery        10      2  2024-03-01   \n",
      "5     1006    David      Tablet  Electronics         1    450  2024-03-05   \n",
      "6     1007      Bob    Notebook   Stationery         5      5  2024-03-12   \n",
      "7     1008    Fiona      Camera  Electronics         1    850  2024-03-18   \n",
      "8     1009   George        Book   Stationery         2     12  2024-04-01   \n",
      "9     1010      Eva       Phone  Electronics         1    699  2024-04-07   \n",
      "\n",
      "   Revenue  \n",
      "0      699  \n",
      "1     1200  \n",
      "2       45  \n",
      "3      398  \n",
      "4       20  \n",
      "5      450  \n",
      "6       25  \n",
      "7      850  \n",
      "8       24  \n",
      "9      699  \n",
      "**************************************\n",
      "Category\n",
      "Electronics     7\n",
      "Stationery     20\n",
      "Name: Quantity, dtype: int64\n",
      "**************************************\n",
      "Laptop\n"
     ]
    }
   ],
   "source": [
    "# Level 3: Aggregation\n",
    "# Create a new column Revenue = Quantity × Price.\n",
    "df[\"Revenue\"] = df[\"Quantity\"] * df[\"Price\"]\n",
    "print(df)\n",
    "print(\"**************************************\")\n",
    "\n",
    "# Find the total quantity of products sold per category.\n",
    "total_quantity_per_category = df.groupby(\"Category\")[\"Quantity\"].sum()\n",
    "print(total_quantity_per_category)\n",
    "print(\"**************************************\")\n",
    "\n",
    "\n",
    "# Which product had the highest total revenue?\n",
    "highest_max_index = df[\"Price\"].argmax()\n",
    "print(df[\"Product\"][highest_max_index])\n"
   ]
  },
  {
   "cell_type": "code",
   "execution_count": 76,
   "id": "08563288",
   "metadata": {},
   "outputs": [
    {
     "name": "stdout",
     "output_type": "stream",
     "text": [
      "datetime64[ns]\n",
      "   OrderID Customer     Product     Category  Quantity  Price  OrderDate\n",
      "0     1001    Alice       Phone  Electronics         1    699 2024-01-15\n",
      "1     1002      Bob      Laptop  Electronics         1   1200 2024-01-12\n",
      "2     1003  Charlie        Book   Stationery         3     15 2024-02-02\n",
      "3     1004    Alice  Headphones  Electronics         2    199 2024-02-20\n",
      "4     1005      Eva         Pen   Stationery        10      2 2024-03-01\n",
      "**************************************\n",
      "Month\n",
      "2024-01    1899\n",
      "2024-02     443\n",
      "2024-03    1345\n",
      "2024-04     723\n",
      "Freq: M, Name: Revenue, dtype: int64\n",
      "**************************************\n",
      "The month with the highest sales revenue is 2024-01: 1899\n"
     ]
    }
   ],
   "source": [
    "# Level 5: Date & Time\n",
    "# Convert OrderDate to a datetime type.\n",
    "df = pd.read_csv(\"sales_dataset.csv\")\n",
    "df[\"OrderDate\"] = pd.to_datetime(df[\"OrderDate\"])\n",
    "print(df[\"OrderDate\"].dtype)\n",
    "print(df.head())\n",
    "print(\"**************************************\")\n",
    "\n",
    "# Find the total sales per month.\n",
    "df[\"OrderDate\"] = pd.to_datetime(df[\"OrderDate\"])\n",
    "\n",
    "df[\"Revenue\"] = df[\"Quantity\"] * df[\"Price\"]\n",
    "\n",
    "# Extract the month (numeric) and year-month (for grouping)\n",
    "df[\"Month\"] = df[\"OrderDate\"].dt.to_period(\"M\")\n",
    "\n",
    "df = df.groupby(\"Month\")[\"Revenue\"].sum()\n",
    "print(df)\n",
    "print(\"**************************************\")\n",
    "\n",
    "# Which month had the highest sales revenue?\n",
    "df = pd.read_csv(\"sales_dataset.csv\")\n",
    "df[\"OrderDate\"] = pd.to_datetime(df[\"OrderDate\"])\n",
    "df[\"Revenue\"] = df[\"Quantity\"] * df[\"Price\"]\n",
    "df[\"Month\"] = df[\"OrderDate\"].dt.to_period(\"M\")\n",
    "monthly_sales = df.groupby(\"Month\")[\"Revenue\"].sum()\n",
    "best_month = monthly_sales.idxmax()\n",
    "highest_revenue = monthly_sales.max()\n",
    "\n",
    "print(f\"The month with the highest sales revenue is {best_month}: {highest_revenue}\")"
   ]
  }
 ],
 "metadata": {
  "kernelspec": {
   "display_name": "venv",
   "language": "python",
   "name": "python3"
  },
  "language_info": {
   "codemirror_mode": {
    "name": "ipython",
    "version": 3
   },
   "file_extension": ".py",
   "mimetype": "text/x-python",
   "name": "python",
   "nbconvert_exporter": "python",
   "pygments_lexer": "ipython3",
   "version": "3.12.5"
  }
 },
 "nbformat": 4,
 "nbformat_minor": 5
}
