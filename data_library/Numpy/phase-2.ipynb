{
 "cells": [
  {
   "cell_type": "markdown",
   "id": "eb8f3768",
   "metadata": {},
   "source": [
    "### Numpy Array operations"
   ]
  },
  {
   "cell_type": "code",
   "execution_count": 2,
   "id": "87d79c66",
   "metadata": {},
   "outputs": [],
   "source": [
    "import numpy as np"
   ]
  },
  {
   "cell_type": "code",
   "execution_count": null,
   "id": "e234081c",
   "metadata": {},
   "outputs": [
    {
     "name": "stdout",
     "output_type": "stream",
     "text": [
      "Basic Slicing [3 4 5 6 7]\n",
      "With Step [2 4 6 8]\n",
      "Negative indexing 7\n"
     ]
    }
   ],
   "source": [
    "arr = np.array([1,2,3,4,5,6,7,8,9])\n",
    "print(\"Basic Slicing\",arr[2:7])\n",
    "print(\"With Step\",arr[1:8:2])   \n",
    "print(\"Negative indexing\",arr[-3])"
   ]
  },
  {
   "cell_type": "code",
   "execution_count": null,
   "id": "4580619d",
   "metadata": {},
   "outputs": [
    {
     "name": "stdout",
     "output_type": "stream",
     "text": [
      "Specific element: 6\n",
      "Entrie row: [4 5 6]\n",
      "Entrie row: [2 5 8]\n"
     ]
    }
   ],
   "source": [
    "arr_2d = np.array([[1,2,3],\n",
    "                   [4,5,6],\n",
    "                   [7,8,9]])\n",
    "\n",
    "print(\"Specific element:\",arr_2d[1,2])\n",
    "print(\"Entrie row:\",arr_2d[1])\n",
    "print(\"Entrie column:\",arr_2d[:,1])"
   ]
  },
  {
   "cell_type": "markdown",
   "id": "4efbcabe",
   "metadata": {},
   "source": [
    "## Sorting"
   ]
  },
  {
   "cell_type": "code",
   "execution_count": null,
   "id": "36634833",
   "metadata": {},
   "outputs": [
    {
     "name": "stdout",
     "output_type": "stream",
     "text": [
      "Sorted array: [ 2  3  4  4  5  6  6  7  9 51]\n",
      "Sorted 2D array by column: [[1 1]\n",
      " [2 2]\n",
      " [3 3]]\n"
     ]
    }
   ],
   "source": [
    "unsorted = np.array([3,4,51,6,7,9,4,2,5,6])\n",
    "print(\"Sorted array:\",np.sort(unsorted))\n",
    "\n",
    "arr_2d_unsorted = np.array([[3,1],[1,2],[2,3]])\n",
    "print(\"Sorted 2D array by column:\",np.sort(arr_2d_unsorted, axis=0))    #top to bottom sorting"
   ]
  },
  {
   "cell_type": "markdown",
   "id": "bcbf06f0",
   "metadata": {},
   "source": [
    "## Filtering"
   ]
  },
  {
   "cell_type": "code",
   "execution_count": 11,
   "id": "df84d08a",
   "metadata": {},
   "outputs": [
    {
     "name": "stdout",
     "output_type": "stream",
     "text": [
      "Even numbers: [ 2  4  6  8 10]\n"
     ]
    }
   ],
   "source": [
    "numbers = np.array([1,2,3,4,5,6,7,8,9,10])\n",
    "even_number = numbers[numbers % 2 == 0]\n",
    "print(\"Even numbers:\", even_number)"
   ]
  },
  {
   "cell_type": "markdown",
   "id": "98be47a2",
   "metadata": {},
   "source": [
    "## filter with mask"
   ]
  },
  {
   "cell_type": "code",
   "execution_count": 12,
   "id": "20d8b20b",
   "metadata": {},
   "outputs": [
    {
     "name": "stdout",
     "output_type": "stream",
     "text": [
      "Number greater than 5: [ 6  7  8  9 10]\n"
     ]
    }
   ],
   "source": [
    "mask = numbers > 5\n",
    "print(\"Number greater than 5:\",numbers[mask])"
   ]
  },
  {
   "cell_type": "markdown",
   "id": "f2a1a09e",
   "metadata": {},
   "source": [
    "## Fancy indexing vs np.where()"
   ]
  },
  {
   "cell_type": "code",
   "execution_count": 20,
   "id": "6b53e81a",
   "metadata": {},
   "outputs": [
    {
     "name": "stdout",
     "output_type": "stream",
     "text": [
      "[1 3 5]\n",
      "(array([5, 6, 7, 8, 9]),)\n",
      "NP where: [ 6  7  8  9 10]\n"
     ]
    }
   ],
   "source": [
    "indices = [0,2,4]\n",
    "print(numbers[indices])\n",
    "\n",
    "where_res = np.where(numbers > 5)\n",
    "print(where_res)\n",
    "print(\"NP where:\", numbers[where_res])"
   ]
  },
  {
   "cell_type": "code",
   "execution_count": 27,
   "id": "a446b739",
   "metadata": {},
   "outputs": [
    {
     "name": "stdout",
     "output_type": "stream",
     "text": [
      "[ 1  2  3  4  5 24 28 32 36 40]\n",
      "['False' 'False' 'False' 'False' 'False' 'True' 'True' 'True' 'True'\n",
      " 'True']\n"
     ]
    }
   ],
   "source": [
    "condition = np.where(numbers > 5, numbers*4, numbers)\n",
    "print(condition)\n",
    "check = np.where(numbers > 5, \"True\", \"False\")\n",
    "print(check)"
   ]
  },
  {
   "cell_type": "markdown",
   "id": "5cfce4cf",
   "metadata": {},
   "source": [
    "### Adding and removing data"
   ]
  },
  {
   "cell_type": "code",
   "execution_count": 30,
   "id": "6a93589f",
   "metadata": {},
   "outputs": [
    {
     "name": "stdout",
     "output_type": "stream",
     "text": [
      "[1 2 3 4 5 6]\n"
     ]
    }
   ],
   "source": [
    "arr1 = np.array([1,2,3])\n",
    "arr_2 = np.array([4,5,6])\n",
    "\n",
    "combined = np.concatenate((arr1, arr_2))\n",
    "print(combined)"
   ]
  },
  {
   "cell_type": "markdown",
   "id": "b2858569",
   "metadata": {},
   "source": [
    "### Array compatibility"
   ]
  },
  {
   "cell_type": "code",
   "execution_count": 33,
   "id": "b6d53b57",
   "metadata": {},
   "outputs": [
    {
     "name": "stdout",
     "output_type": "stream",
     "text": [
      "Compatibility shpaes: True\n"
     ]
    }
   ],
   "source": [
    "a = np.array([1,2,3])\n",
    "b = np.array([4,5,6])\n",
    "c = np.array([7,8,9])\n",
    "\n",
    "print(\"Compatibility shpaes:\", a.shape == b.shape)"
   ]
  },
  {
   "cell_type": "code",
   "execution_count": 37,
   "id": "bf6c8fce",
   "metadata": {},
   "outputs": [
    {
     "name": "stdout",
     "output_type": "stream",
     "text": [
      "[[1 2]\n",
      " [3 4]]\n",
      "\n",
      " [[1 2]\n",
      " [3 4]\n",
      " [5 6]]\n",
      "\n",
      " [[1 2 7]\n",
      " [3 4 8]]\n"
     ]
    }
   ],
   "source": [
    "original = np.array([[1,2], [3,4]])\n",
    "new_row = np.array([[5,6]])\n",
    "\n",
    "with_new_row = np.vstack((original, new_row))\n",
    "print(original)\n",
    "print(\"\\n\",with_new_row)\n",
    "\n",
    "\n",
    "new_col = np.array([[7],[8]])\n",
    "with_new_col = np.hstack((original, new_col))\n",
    "print(\"\\n\",with_new_col)"
   ]
  },
  {
   "cell_type": "code",
   "execution_count": 39,
   "id": "18301b53",
   "metadata": {},
   "outputs": [
    {
     "name": "stdout",
     "output_type": "stream",
     "text": [
      "Array after deletion: [1 2 4 5]\n"
     ]
    }
   ],
   "source": [
    "arr = np.array([1,2,3,4,5])\n",
    "\n",
    "deleted = np.delete(arr, 2)\n",
    "print(\"Array after deletion:\",deleted)"
   ]
  }
 ],
 "metadata": {
  "kernelspec": {
   "display_name": "venv",
   "language": "python",
   "name": "python3"
  },
  "language_info": {
   "codemirror_mode": {
    "name": "ipython",
    "version": 3
   },
   "file_extension": ".py",
   "mimetype": "text/x-python",
   "name": "python",
   "nbconvert_exporter": "python",
   "pygments_lexer": "ipython3",
   "version": "3.12.5"
  }
 },
 "nbformat": 4,
 "nbformat_minor": 5
}
