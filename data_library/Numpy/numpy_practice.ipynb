{
 "cells": [
  {
   "cell_type": "code",
   "execution_count": null,
   "id": "86179f40",
   "metadata": {},
   "outputs": [],
   "source": [
    "#practice of numpy\n",
    "import numpy as np"
   ]
  },
  {
   "cell_type": "code",
   "execution_count": null,
   "id": "623f3db4",
   "metadata": {},
   "outputs": [
    {
     "name": "stdout",
     "output_type": "stream",
     "text": [
      "Numpy array: [1 2 3 4]\n",
      "\n",
      "Zeros Matrix: [[0. 0. 0. 0.]\n",
      " [0. 0. 0. 0.]\n",
      " [0. 0. 0. 0.]\n",
      " [0. 0. 0. 0.]]\n",
      "\n",
      "Ones Matrix: [[1. 1. 1.]\n",
      " [1. 1. 1.]\n",
      " [1. 1. 1.]]\n",
      "\n",
      "Specific Number Matrix: [[5 5]\n",
      " [5 5]\n",
      " [5 5]]\n",
      "\n",
      "Random Matrix: [[0.25041792 0.74006043 0.58884406]\n",
      " [0.58087605 0.83647713 0.34432255]]\n",
      "\n",
      "Arange Array: [ 0  2  4  6  8 10]\n",
      "\n",
      "2D Array:\n",
      " [[1 2 3]\n",
      " [4 5 6]\n",
      " [7 8 9]]\n",
      "\n",
      "Tensor Array:\n",
      " [[[1 2]\n",
      "  [3 4]]\n",
      "\n",
      " [[5 6]\n",
      "  [7 8]]]\n",
      "\n",
      "Identity Matrix:\n",
      " [[1. 0. 0. 0.]\n",
      " [0. 1. 0. 0.]\n",
      " [0. 0. 1. 0.]\n",
      " [0. 0. 0. 1.]]\n"
     ]
    }
   ],
   "source": [
    "arr = np.array([1,2,3,4])\n",
    "print(\"Numpy array:\",arr)   #also called a vector\n",
    "\n",
    "\n",
    "# default values in numpy\n",
    "arr1 = np.zeros((4,4))\n",
    "print(\"\\nZeros Matrix:\",arr1)\n",
    "\n",
    "arr2 = np.ones((3,3))\n",
    "print(\"\\nOnes Matrix:\",arr2)\n",
    "\n",
    "arr3 = np.full((3,2),5)\n",
    "print('\\nSpecific Number Matrix:',arr3)\n",
    "\n",
    "arr4 = np.random.random((2,3)) #random always create a value between 0 and 1\n",
    "print('\\nRandom Matrix:',arr4)\n",
    "\n",
    "arr5 = np.arange(0,11,2)  #sequence of an array\n",
    "print(\"\\nArange Array:\",arr5)\n",
    "\n",
    "arr6 = np.array([[1,2,3],[4,5,6],[7,8,9]])\n",
    "print(\"\\n2D Array:\\n\",arr6)\n",
    "\n",
    "arr7 = np.array([[[1,2],[3,4]],\n",
    "                 [[5,6],[7,8]]])\n",
    "print(\"\\nTensor Array:\\n\",arr7) #also called a 3D array\n",
    "\n",
    "arr8 = np.eye(4) #identity matrix\n",
    "print('\\nIdentity Matrix:\\n',arr8)\n",
    "\n"
   ]
  },
  {
   "cell_type": "code",
   "execution_count": 25,
   "id": "42af5b88",
   "metadata": {},
   "outputs": [
    {
     "name": "stdout",
     "output_type": "stream",
     "text": [
      "\n",
      "Shape: (2, 3)\n",
      "Size: 6\n",
      "Dimension: 2\n",
      "Data-Type: int64\n",
      "Item Size: 8\n",
      "Type: <class 'numpy.ndarray'>\n"
     ]
    }
   ],
   "source": [
    "#array properties\n",
    "\n",
    "arr = np.array([[1,2,3],[4,5,6]])\n",
    "print(\"\\nShape:\",arr.shape)  #shape of an array\n",
    "print(\"Size:\",arr.size)    #total number of elements in an array\n",
    "print(\"Dimension:\",arr.ndim)  #number of dimensions\n",
    "print(\"Data-Type:\",arr.dtype) #data type of an array\n",
    "print(\"Item Size:\",arr.itemsize) #size of each element in bytes\n",
    "print(\"Type:\",type(arr)) #type of an array"
   ]
  },
  {
   "cell_type": "code",
   "execution_count": 31,
   "id": "f98d79ad",
   "metadata": {},
   "outputs": [
    {
     "name": "stdout",
     "output_type": "stream",
     "text": [
      "[ 0  1  2  3  4  5  6  7  8  9 10 11]\n",
      "\n",
      "Reshaped Array:\n",
      " [[ 0  1  2  3]\n",
      " [ 4  5  6  7]\n",
      " [ 8  9 10 11]]\n",
      "\n",
      "Flattered Array: [ 0  1  2  3  4  5  6  7  8  9 10 11]\n",
      "\n",
      "Ravel Array: [ 0  1  2  3  4  5  6  7  8  9 10 11]\n",
      "\n",
      "Transpose of an Array:\n",
      " [[ 0  4  8]\n",
      " [ 1  5  9]\n",
      " [ 2  6 10]\n",
      " [ 3  7 11]]\n"
     ]
    }
   ],
   "source": [
    "# array reshaping\n",
    "arr = np.arange(12)\n",
    "print(arr)\n",
    "\n",
    "reshaped_Arr = arr.reshape(3,4) # 3 rows and 4 columns\n",
    "print(\"\\nReshaped Array:\\n\",reshaped_Arr)\n",
    "\n",
    "flattered_arr = reshaped_Arr.flatten() #convert any dimension to 1D array - it returns a copy of original array\n",
    "print(\"\\nFlattered Array:\",flattered_arr)\n",
    "\n",
    "revel_arr = reshaped_Arr.ravel() #convert any dimension to 1D array - it returns a view of original array\n",
    "print(\"\\nRavel Array:\",revel_arr)\n",
    "\n",
    "transpose_arr = reshaped_Arr.T #transpose of an array\n",
    "print(\"\\nTranspose of an Array:\\n\",transpose_arr)"
   ]
  },
  {
   "cell_type": "code",
   "execution_count": 65,
   "id": "bb4417f9",
   "metadata": {},
   "outputs": [
    {
     "name": "stdout",
     "output_type": "stream",
     "text": [
      "[6 7 8 9]\n",
      "[3 4 5 6 7]\n",
      "[1 3 5 7 9]\n",
      "[9 8 7 6 5 4 3 2 1]\n",
      "7\n",
      "[3 6 8 1]\n",
      "\n",
      " 6\n",
      "[4 5 6]\n",
      "[10 11 12]\n",
      "\n",
      " [[ 4  5  6]\n",
      " [ 7  8  9]\n",
      " [10 11 12]]\n",
      "\n",
      " [[4 5 6]\n",
      " [7 8 9]]\n",
      "\n",
      " [[10 11 12]\n",
      " [ 7  8  9]\n",
      " [ 4  5  6]\n",
      " [ 1  2  3]]\n"
     ]
    }
   ],
   "source": [
    "#slicing and accessing elements\n",
    "arr = np.array([1,2,3,4,5,6,7,8,9])\n",
    "print(arr[5:])\n",
    "print(arr[2:7])\n",
    "print(arr[0::2])\n",
    "print(arr[::-1])\n",
    "print(arr[-3])\n",
    "#fancy indexing\n",
    "print(arr[[2,5,7,0]])\n",
    "\n",
    "arr_2d = np.array([[1,2,3],\n",
    "                   [4,5,6],\n",
    "                   [7,8,9],\n",
    "                   [10,11,12]])\n",
    "print(\"\\n\",arr_2d[1,2]) # each element access from an matrix\n",
    "print(arr_2d[1]) # row access 0 based indexing\n",
    "print(arr_2d[-1])  # access last row using negative one\n",
    "#slicing\n",
    "print(\"\\n\",arr_2d[1:]) \n",
    "print(\"\\n\",arr_2d[1:-1])\n",
    "print(\"\\n\",arr_2d[::-1])  "
   ]
  },
  {
   "cell_type": "code",
   "execution_count": 63,
   "id": "55fb9730",
   "metadata": {},
   "outputs": [
    {
     "name": "stdout",
     "output_type": "stream",
     "text": [
      "Sorted array: [ 1  2  3  5  6  9 10 17 20 23 28 35 39 41 51]\n",
      "\n",
      "Sorted 2D array:\n",
      " [[ 2  5 10]\n",
      " [ 1  9 20]\n",
      " [ 3 23 41]]\n",
      "\n",
      "Sorted 2D array:\n",
      " [[ 9  1  2]\n",
      " [10  3 20]\n",
      " [41  5 23]]\n"
     ]
    }
   ],
   "source": [
    "unsorted_arr = np.array([10,5,2,9,1,20,41,3,23,51,39,28,6,17,35])\n",
    "print('Sorted array:',np.sort(unsorted_arr))\n",
    "\n",
    "unsorted_arr_2d = np.array([[10,5,2],\n",
    "                            [9,1,20],\n",
    "                            [41,3,23]])\n",
    "print('\\nSorted 2D array:\\n',np.sort(unsorted_arr_2d,axis=1)) #sort each row\n",
    "print('\\nSorted 2D array:\\n',np.sort(unsorted_arr_2d,axis=0)) #sort each column"
   ]
  },
  {
   "cell_type": "code",
   "execution_count": 66,
   "id": "c93c5da4",
   "metadata": {},
   "outputs": [
    {
     "name": "stdout",
     "output_type": "stream",
     "text": [
      "Original Array: [1 2 3 4 5 6]\n",
      "Addition: [ 6  7  8  9 10 11]\n",
      "Subtraction: [-1  0  1  2  3  4]\n",
      "Multiplication: [ 3  6  9 12 15 18]\n",
      "Division: [0.5 1.  1.5 2.  2.5 3. ]\n",
      "Exponent: [ 1  4  9 16 25 36]\n"
     ]
    }
   ],
   "source": [
    "#numercial operations\n",
    "arr = np.array([1,2,3,4,5,6])\n",
    "print(\"Original Array:\",arr)\n",
    "print(\"Addition:\",arr+5)\n",
    "print(\"Subtraction:\",arr-2)\n",
    "print(\"Multiplication:\",arr*3)\n",
    "print(\"Division:\",arr/2)\n",
    "print(\"Exponent:\",arr**2)"
   ]
  },
  {
   "cell_type": "code",
   "execution_count": 73,
   "id": "f9985f7c",
   "metadata": {},
   "outputs": [
    {
     "name": "stdout",
     "output_type": "stream",
     "text": [
      "Original Array: [10 20 30 40 50]\n",
      "Sum: 150\n",
      "Mean: 30.0\n",
      "count: 5\n",
      "Minimum: 10\n",
      "Maximum: 50\n",
      "Standard Deviation: 14.142135623730951\n",
      "Varience: 200.0\n"
     ]
    }
   ],
   "source": [
    "#aggregation functions\n",
    "arr = np.array([10,20,30,40,50])\n",
    "print(\"Original Array:\",arr)\n",
    "print(\"Sum:\",np.sum(arr))\n",
    "print(\"Mean:\",np.mean(arr))\n",
    "print(\"count:\",np.count_nonzero(arr))\n",
    "print(\"Minimum:\",np.min(arr))\n",
    "print(\"Maximum:\",np.max(arr))\n",
    "print(\"Standard Deviation:\",np.std(arr))\n",
    "print(\"Varience:\",np.var(arr))"
   ]
  },
  {
   "cell_type": "code",
   "execution_count": 84,
   "id": "07161130",
   "metadata": {},
   "outputs": [
    {
     "name": "stdout",
     "output_type": "stream",
     "text": [
      "Filtered Array: [65 70 85 90]\n",
      "Filtered Array: [65 70]\n",
      "Filtered Array: [10 30 50 70 90]\n"
     ]
    }
   ],
   "source": [
    "# filtering data \n",
    "arr = np.array([10,25,30,45,50,65,70,85,90])\n",
    "filter_arr = arr[arr>50]\n",
    "print(\"Filtered Array:\",filter_arr)\n",
    "filter_arr = arr[(arr>50) & (arr<85)]\n",
    "print(\"Filtered Array:\",filter_arr)\n",
    "filter_arr3 = arr[arr % 2 == 0]\n",
    "print(\"Filtered Array:\",filter_arr3)"
   ]
  },
  {
   "cell_type": "code",
   "execution_count": null,
   "id": "a6f2e6a2",
   "metadata": {},
   "outputs": [
    {
     "name": "stdout",
     "output_type": "stream",
     "text": [
      "Original Array: [1 2 3 4 5]\n",
      "New Array after adding 5: [ 1  2  3 55  4  5]\n",
      "Original 2D Array:\n",
      " [[1 2 3]\n",
      " [4 5 6]\n",
      " [7 8 9]]\n",
      "New 2D Array after adding 55 row wise:\n",
      " [[ 1  2  3]\n",
      " [55 55 55]\n",
      " [ 4  5  6]\n",
      " [ 7  8  9]]\n",
      "New 2D Array after adding row wise:\n",
      " [[ 1  2  3]\n",
      " [12 32 52]\n",
      " [ 4  5  6]\n",
      " [ 7  8  9]]\n",
      "New 2D Array after adding column wise:\n",
      " [[ 1 12  2  3]\n",
      " [ 4 32  5  6]\n",
      " [ 7 52  8  9]]\n",
      "New 2D Array:\n",
      " [ 1 12 32 52  2  3  4  5  6  7  8  9]\n",
      "Reshped arr:\n",
      " [[ 1 12 32]\n",
      " [52  2  3]\n",
      " [ 4  5  6]\n",
      " [ 7  8  9]]\n"
     ]
    }
   ],
   "source": [
    "#advanced concepts inserting values using numpy functions\n",
    "arr = np.array([1,2,3,4,5])\n",
    "print(\"Original Array:\",arr)\n",
    "\n",
    "new_arr= np.insert(arr,3,55) #insert 100 at index 3\n",
    "print(\"New Array after adding 5:\",new_arr)\n",
    "\n",
    "arr_2d = np.array([[1,2,3],\n",
    "                   [4,5,6],\n",
    "                     [7,8,9]])\n",
    "print(\"Original 2D Array:\\n\",arr_2d)\n",
    "new_arr_2d = np.insert(arr_2d,1,55,axis=0) #insert 55 at index 1 row wise\n",
    "print(\"New 2D Array after adding 55 row wise:\\n\",new_arr_2d)\n",
    "\n",
    "new_arr_2d = np.insert(arr_2d,1,[12,32,52],axis=0) \n",
    "print(\"New 2D Array after adding row wise:\\n\",new_arr_2d)\n",
    "\n",
    "new_arr_2d = np.insert(arr_2d,1,[12,32,52],axis=1) #column wise insert\n",
    "print(\"New 2D Array after adding column wise:\\n\",new_arr_2d)\n",
    "\n",
    "new_arr_2d = np.insert(arr_2d,1,[12,32,52],axis=None) #axis none means a vector - insert in vector\n",
    "print(\"New 2D Array:\\n\",new_arr_2d)\n",
    "\n",
    "# reshaped_Arr = new_arr_2d.reshape(4,3)\n",
    "# print(\"Reshped arr:\\n\",reshaped_Arr)"
   ]
  },
  {
   "cell_type": "code",
   "execution_count": null,
   "id": "ca7595ea",
   "metadata": {},
   "outputs": [
    {
     "name": "stdout",
     "output_type": "stream",
     "text": [
      "Append new arr: [1 2 3 4 5 6 7 8 9]\n",
      "Append new 2D arr:\n",
      " [[ 1  2  3]\n",
      " [ 4  5  6]\n",
      " [ 7  8  9]\n",
      " [10 11 12]]\n",
      "Append new 2D arr:\n",
      " [[ 1  2  3 10]\n",
      " [ 4  5  6 11]\n",
      " [ 7  8  9 12]]\n",
      "Append new 2D arr:\n",
      " [ 1  2  3  4  5  6  7  8  9 10 11 12]\n"
     ]
    }
   ],
   "source": [
    "#append\n",
    "arr = np.array([1,2,3,4,5])\n",
    "print(\"Append new arr:\",np.append(arr, [6,7,8,9]))\n",
    "\n",
    "arr_2d = np.array([[1,2,3],\n",
    "                   [4,5,6],\n",
    "                   [7,8,9]])\n",
    "print(\"Append new 2D arr:\\n\",np.append(arr_2d, [[10,11,12]], axis=0)) #row wise append\n",
    "print(\"Append new 2D arr:\\n\",np.append(arr_2d, [[10],[11],[12]], axis=1)) #column wise append\n",
    "print(\"Append new 2D arr:\\n\",np.append(arr_2d, [[10,11,12]], axis=None)) #vector append"
   ]
  },
  {
   "cell_type": "code",
   "execution_count": null,
   "id": "3df282d1",
   "metadata": {},
   "outputs": [
    {
     "name": "stdout",
     "output_type": "stream",
     "text": [
      "Merged Array: [1 2 3 4 5 6]\n"
     ]
    }
   ],
   "source": [
    "#merge - use concatenate function\n",
    "arr1 = np.array([1,2,3])\n",
    "arr2 = np.array([4,5,6])\n",
    "\n",
    "arr3 = np.concatenate((arr1,arr2))\n",
    "print(\"Merged Array:\",arr3)"
   ]
  },
  {
   "cell_type": "code",
   "execution_count": 113,
   "id": "cbef6d49",
   "metadata": {},
   "outputs": [
    {
     "name": "stdout",
     "output_type": "stream",
     "text": [
      "New Array after deleting an element: [1 2 3 5 6 7 8 9]\n",
      "New 2D Array after deleting row 0:\n",
      " [[ 5  6  7  8]\n",
      " [ 9 10 11 12]]\n",
      "New 2D Array after deleting column 1:\n",
      " [[ 1  3  4]\n",
      " [ 5  7  8]\n",
      " [ 9 11 12]]\n",
      "New 2D Array after deleting column 0 and 1:\n",
      " [[ 3  4]\n",
      " [ 7  8]\n",
      " [11 12]]\n",
      "New 2D Array after deleting rows 0 and 1:\n",
      " [[ 9 10 11 12]]\n"
     ]
    }
   ],
   "source": [
    "#removing elements - use delete function it returns a new array with the specified subarray deleted from the input array.\n",
    "arr = np.array([1,2,3,4,5,6,7,8,9])\n",
    "new_arr = np.delete(arr,3) #delete element at index 3\n",
    "print(\"New Array after deleting an element:\",new_arr)\n",
    "\n",
    "arr2 = np.array([[1,2,3,4],\n",
    "                [5,6,7,8],\n",
    "                [9,10,11,12]])\n",
    "new_arr2 = np.delete(arr2,0,axis=0)\n",
    "print(\"New 2D Array after deleting row 0:\\n\",new_arr2)\n",
    "new_arr2 = np.delete(arr2,1,axis=1)\n",
    "print(\"New 2D Array after deleting column 1:\\n\",new_arr2)\n",
    "#it can also delete multiple values\n",
    "new_arr2 = np.delete(arr2,[0,1],axis=1)\n",
    "print(\"New 2D Array after deleting column 0 and 1:\\n\",new_arr2)\n",
    "new_arr2 = np.delete(arr2,[0,1],axis=0)\n",
    "print(\"New 2D Array after deleting rows 0 and 1:\\n\",new_arr2)"
   ]
  },
  {
   "cell_type": "code",
   "execution_count": null,
   "id": "1b7f0355",
   "metadata": {},
   "outputs": [
    {
     "name": "stdout",
     "output_type": "stream",
     "text": [
      "Vertical Stack:\n",
      " [[1 2 3]\n",
      " [4 5 6]]\n",
      "Horizontal Stack:\n",
      " [1 2 3 4 5 6]\n"
     ]
    }
   ],
   "source": [
    "#stacking - use vstack and hstack\n",
    "arr1 = np.array([1,2,3])\n",
    "arr2 = np.array([4,5,6])\n",
    "vstack_arr = np.vstack((arr1,arr2))\n",
    "print(\"Vertical Stack:\\n\",vstack_arr)\n",
    "hstack_arr = np.hstack((arr1,arr2)) #horizontal stack it like merge\n",
    "print(\"Horizontal Stack:\\n\",hstack_arr)"
   ]
  },
  {
   "cell_type": "code",
   "execution_count": 118,
   "id": "688d2c59",
   "metadata": {},
   "outputs": [
    {
     "name": "stdout",
     "output_type": "stream",
     "text": [
      "Split Array: [array([1, 2, 3]), array([4, 5, 6]), array([7, 8, 9])]\n",
      "Split First Array: [1 2 3]\n",
      "Split Second Array: [4 5 6]\n",
      "Split Third Array: [7 8 9]\n"
     ]
    }
   ],
   "source": [
    "#splitting - use array_split\n",
    "arr = np.array([1,2,3,4,5,6,7,8,9])\n",
    "split_arr = np.array_split(arr,3) #split array into 3 sub arrays\n",
    "print(\"Split Array:\",split_arr)\n",
    "print(\"Split First Array:\",split_arr[0]) #accessing first sub array\n",
    "print(\"Split Second Array:\",split_arr[1]) #accessing second sub array\n",
    "print(\"Split Third Array:\",split_arr[2]) #accessing third sub array"
   ]
  },
  {
   "cell_type": "code",
   "execution_count": 119,
   "id": "b5e863e7",
   "metadata": {},
   "outputs": [
    {
     "name": "stdout",
     "output_type": "stream",
     "text": [
      "Original Array a:\n",
      " [[1 2 3]\n",
      " [4 5 6]\n",
      " [7 8 9]]\n",
      "Original Array b:\n",
      " [1 0 1]\n",
      "Broadcasted Array:\n",
      " [[ 2  2  4]\n",
      " [ 5  5  7]\n",
      " [ 8  8 10]]\n",
      "Broadcasted Array:\n",
      " [[1 0 3]\n",
      " [4 0 6]\n",
      " [7 0 9]]\n"
     ]
    }
   ],
   "source": [
    "#broadcasting - use broadcasting to perform operations on arrays of different shapes\n",
    "a = np.array([[1,2,3],\n",
    "              [4,5,6],\n",
    "              [7,8,9]])\n",
    "b = np.array([1,0,1])\n",
    "print(\"Original Array a:\\n\",a)\n",
    "print(\"Original Array b:\\n\",b)\n",
    "print(\"Broadcasted Array:\\n\",a+b) #add b to each row of a\n",
    "print(\"Broadcasted Array:\\n\",a*b) #multiply b to each row of a"
   ]
  },
  {
   "cell_type": "code",
   "execution_count": null,
   "id": "391a16b5",
   "metadata": {},
   "outputs": [],
   "source": []
  }
 ],
 "metadata": {
  "kernelspec": {
   "display_name": "venv",
   "language": "python",
   "name": "python3"
  },
  "language_info": {
   "codemirror_mode": {
    "name": "ipython",
    "version": 3
   },
   "file_extension": ".py",
   "mimetype": "text/x-python",
   "name": "python",
   "nbconvert_exporter": "python",
   "pygments_lexer": "ipython3",
   "version": "3.12.5"
  }
 },
 "nbformat": 4,
 "nbformat_minor": 5
}
