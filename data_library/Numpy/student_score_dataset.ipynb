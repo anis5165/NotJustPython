{
 "cells": [
  {
   "cell_type": "code",
   "execution_count": null,
   "id": "769f24ff",
   "metadata": {},
   "outputs": [
    {
     "name": "stdout",
     "output_type": "stream",
     "text": [
      "[[88 92 80]\n",
      " [78 85 90]\n",
      " [92 88 95]\n",
      " [70 75 65]\n",
      " [95 90 98]]\n"
     ]
    }
   ],
   "source": [
    "import numpy as np\n",
    "\n",
    "# Columns: [Math, Science, English]\n",
    "scores = np.array([\n",
    "    [88, 92, 80],\n",
    "    [78, 85, 90],\n",
    "    [92, 88, 95],\n",
    "    [70, 75, 65],\n",
    "    [95, 90, 98]\n",
    "])\n",
    "\n",
    "print(scores)"
   ]
  },
  {
   "cell_type": "code",
   "execution_count": 74,
   "id": "1224f7a5",
   "metadata": {},
   "outputs": [
    {
     "name": "stdout",
     "output_type": "stream",
     "text": [
      "Maths column: [88 78 92 70 95]\n",
      "*****************************************************\n",
      "Total scores of Maths and Science: 853\n",
      "*****************************************************\n",
      "Shape of dataset: (5, 3)\n",
      "*****************************************************\n",
      "Average score - Maths: 84.6, Science: 86.0, English: 85.6\n",
      "*****************************************************\n",
      "Highest english score: 98\n"
     ]
    }
   ],
   "source": [
    "# Level 1 (Basic)\n",
    "# Print the Math scores (first column).\n",
    "print(\"Maths column:\",scores[:,0])\n",
    "print(\"*****************************************************\")\n",
    "\n",
    "# Print the Science + English scores together.\n",
    "total_score = (scores[:,0] + scores[:,1]).sum()\n",
    "print(\"Total scores of Maths and Science:\",total_score)\n",
    "print(\"*****************************************************\")\n",
    "\n",
    "#Find the shape of the dataset.\n",
    "print(\"Shape of dataset:\",scores.shape)\n",
    "print(\"*****************************************************\")\n",
    "\n",
    "# Find the average score for each subject (column mean).\n",
    "avg_maths = scores[:,0].mean()\n",
    "avg_science = scores[:,1].mean()\n",
    "avg_english = scores[:,2].mean()\n",
    "print(f\"Average score - Maths: {avg_maths}, Science: {avg_science}, English: {avg_english}\")\n",
    "print(\"*****************************************************\")\n",
    "\n",
    "# Find the highest English score.\n",
    "print(\"Highest english score:\",scores[:,2].max())"
   ]
  },
  {
   "cell_type": "code",
   "execution_count": 75,
   "id": "6856cb5e",
   "metadata": {},
   "outputs": [
    {
     "name": "stdout",
     "output_type": "stream",
     "text": [
      "The total score per student: [260 253 275 210 283]\n",
      "*****************************************************\n",
      "The student with the highest total score: 283\n",
      "*****************************************************\n",
      "Normalize all scores (scale between 0 and 1):\n",
      " [[0.6969697  0.81818182 0.45454545]\n",
      " [0.39393939 0.60606061 0.75757576]\n",
      " [0.81818182 0.6969697  0.90909091]\n",
      " [0.15151515 0.3030303  0.        ]\n",
      " [0.90909091 0.75757576 1.        ]]\n",
      "*****************************************************\n",
      "The subject in which students performed best on average: Science\n",
      "[[88 92 80]\n",
      " [80 85 90]\n",
      " [92 88 95]\n",
      " [80 80 80]\n",
      " [95 90 98]]\n"
     ]
    }
   ],
   "source": [
    "#Level 2 (Intermediate)\n",
    "# Find the total score per student (row sums).\n",
    "total_score = scores.sum(axis=1)\n",
    "print(\"The total score per student:\",total_score)\n",
    "print(\"*****************************************************\")\n",
    "\n",
    "# Find the student with the highest total score.\n",
    "print(\"The student with the highest total score:\",scores.sum(axis=1).max())\n",
    "print(\"*****************************************************\")\n",
    "\n",
    "#Normalize all scores (scale between 0 and 1).\n",
    "min_value = scores.min()\n",
    "max_value = scores.max()\n",
    "normalized_score = (scores - min_value) / (max_value - min_value)\n",
    "print(\"Normalize all scores (scale between 0 and 1):\\n\",normalized_score)\n",
    "print(\"*****************************************************\")\n",
    "\n",
    "# Find the subject in which students performed best on average.\n",
    "average_scores = scores.mean(axis=0)\n",
    "subjects = [\"Math\", \"Science\", \"English\"]\n",
    "best_subject_index = np.argmax(average_scores)   #argmax - provide maximum element index\n",
    "best_subject = subjects[best_subject_index]\n",
    "print(\"The subject in which students performed best on average:\",best_subject)\n",
    "\n",
    "#Replace all scores < 80 with 80 (bonus marks 😎).\n",
    "# scores[scores < 80] = 80\n",
    "# print(scores)\n",
    "# OR \n",
    "updated_score = np.where(scores < 80, 80, scores)\n",
    "print(updated_score)"
   ]
  },
  {
   "cell_type": "code",
   "execution_count": null,
   "id": "21839888",
   "metadata": {},
   "outputs": [
    {
     "name": "stdout",
     "output_type": "stream",
     "text": [
      "[[1.         0.88072525]\n",
      " [0.88072525 1.        ]]\n",
      "Correlation between Math and Science: 0.8807252531315408\n",
      "*****************************************************\n",
      "[3 1 0 2 4]\n",
      "Students sorted by Math score:\n",
      " [[70 75 65]\n",
      " [78 85 90]\n",
      " [88 92 80]\n",
      " [92 88 95]\n",
      " [95 90 98]]\n",
      "*****************************************************\n",
      "Students with >90 in all subjects:\n",
      " []\n",
      "*****************************************************\n",
      "[[88 92 80]\n",
      " [78 85 90]\n",
      " [92 88 95]\n",
      " [70 75 65]\n",
      " [85 89 92]\n",
      " [95 90 98]]\n"
     ]
    }
   ],
   "source": [
    "# Level 3 (Advanced)\n",
    "# Compute the correlation between Math and Science scores.\n",
    "math = scores[:,0]\n",
    "science = scores[:,1]\n",
    "\n",
    "correlation = np.corrcoef(math, science)\n",
    "print(correlation)\n",
    "print(\"Correlation between Math and Science:\",correlation[0, 1])\n",
    "print(\"*****************************************************\")\n",
    "\n",
    "#Sort students by their Math score.\n",
    "maths = scores[:,0]\n",
    "index = np.argsort(maths)    # provide all element index in sorted form\n",
    "print(index)\n",
    "new_score = scores[index]\n",
    "print(\"Students sorted by Math score:\\n\",new_score)\n",
    "\n",
    "print(\"*****************************************************\")\n",
    "# Create a boolean mask of all students who scored >90 in all subjects.\n",
    "scores = np.array([\n",
    "    [88, 92, 80],\n",
    "    [78, 85, 90],\n",
    "    [92, 88, 95],\n",
    "    [70, 75, 65],\n",
    "    [95, 90, 98]\n",
    "])\n",
    "mask = np.all(scores>90, axis=1)\n",
    "# print(mask)\n",
    "qualfied_std = scores[mask]\n",
    "print(\"Students with >90 in all subjects:\\n\", qualfied_std)\n",
    "\n",
    "print(\"*****************************************************\")\n",
    "\n",
    "#Add a new student [85, 89, 92] to the dataset.\n",
    "add_new_std = np.insert(scores,4,[[85, 89, 92]], axis=0) #for insert axis=0 means row wise insert...\n",
    "print(add_new_std)"
   ]
  }
 ],
 "metadata": {
  "kernelspec": {
   "display_name": "venv",
   "language": "python",
   "name": "python3"
  },
  "language_info": {
   "codemirror_mode": {
    "name": "ipython",
    "version": 3
   },
   "file_extension": ".py",
   "mimetype": "text/x-python",
   "name": "python",
   "nbconvert_exporter": "python",
   "pygments_lexer": "ipython3",
   "version": "3.12.5"
  }
 },
 "nbformat": 4,
 "nbformat_minor": 5
}
